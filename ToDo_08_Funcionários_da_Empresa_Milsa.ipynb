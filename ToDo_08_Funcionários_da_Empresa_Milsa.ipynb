{
  "nbformat": 4,
  "nbformat_minor": 0,
  "metadata": {
    "colab": {
      "provenance": [],
      "authorship_tag": "ABX9TyMDV7wUoYzr/HfU8vKZ7P5C",
      "include_colab_link": true
    },
    "kernelspec": {
      "name": "python3",
      "display_name": "Python 3"
    },
    "language_info": {
      "name": "python"
    }
  },
  "cells": [
    {
      "cell_type": "markdown",
      "metadata": {
        "id": "view-in-github",
        "colab_type": "text"
      },
      "source": [
        "<a href=\"https://colab.research.google.com/github/JoSEPHDev2022/ToDo_8-Funcionarios-da-empresa-milsa/blob/main/ToDo_08_Funcion%C3%A1rios_da_Empresa_Milsa.ipynb\" target=\"_parent\"><img src=\"https://colab.research.google.com/assets/colab-badge.svg\" alt=\"Open In Colab\"/></a>"
      ]
    },
    {
      "cell_type": "markdown",
      "source": [
        "# <font color ='gold'>**_Todo_08: Funcionários da Empresa Milsa_** </font>\n",
        "---"
      ],
      "metadata": {
        "id": "cyJ2j6Z1ngvn"
      }
    },
    {
      "cell_type": "markdown",
      "source": [
        "<img src=\"https://www.tiqs.com.br/wp-content/uploads/2021/07/43022-TIQS-Artigo09-Blog.png\" width=1000 height=300>\n"
      ],
      "metadata": {
        "id": "ZUF-iPrsoR7q"
      }
    },
    {
      "cell_type": "markdown",
      "source": [
        "<font size='5'><font color='gold'>**_Descrição do Projeto_**</font> 📓 🖊\n",
        "\n",
        "A companhia Milsa possui dados de 36 funcionários da seção de orçamentos. Para cada funcionário temos os seguintes atributos: **_estado civil, instrução de educação, filhos, salário, idade (anos e meses), região_**. A imagem a seguir mostra o exemplo de dados de 5 destes funcionários:\n",
        ">\n",
        "<font color='gold'><font size='4'>Funcionario |<font color='gold'><font size='4'> Est.civil |<font color='gold'><font size='4'> Inst    |<font color='gold'><font size='4'> Filhos |<font color='gold'><font size='4'> Salario |<font color='gold'><font size='4'> Anos |<font color='gold'><font size='4'> Meses |<font color='gold'><font size='4'> Regiao\n",
        "------------|-----------|---------|--------|---------|------|-------|-----------\n",
        "<font size='3'>1           |<font size='3'> solteiro  |<font size='3'> 1o grau |<font size='3'> NaN    |<font size='3'> 4.0     |<font size='3'> 26   |<font size='3'> 3     |<font size='3'> interior\n",
        "<font size='3'>2           |<font size='3'> casado    |<font size='3'> 1o grau |<font size='3'> 1.0    |<font size='3'> 4.56    |<font size='3'> 32   |<font size='3'> 10    |<font size='3'> capital\n",
        "<font size='3'>3           |<font size='3'> casado    |<font size='3'> 1o grau |<font size='3'> 2.0    |<font size='3'> 5.25    |<font size='3'> 36   |<font size='3'> 5     |<font size='3'> capital\n",
        "<font size='3'>4           |<font size='3'> solteiro  |<font size='3'> 2o grau |<font size='3'> NaN    |<font size='3'> 5.73    |<font size='3'> 20   |<font size='3'> 10    |<font size='3'> outro\n",
        "<font size='3'>5           |<font size='3'> solteiro  |<font size='3'> 1o grau |<font size='3'> NaN    |<font size='3'> 6.26    |<font size='3'> 40   |<font size='3'> 7     |<font size='3'> outro\n",
        "\n",
        "<font size='2'>Conjunto de dados retirados do segundo capítulo do livro “Estatística Básica” de W. O. Bussab e P. A. Morettin: http://www.leg.ufpr.br/~fernandomayer/data/milsa.csv. </font>\n",
        ">\n",
        "A empresa deseja saber algumas informações sobre esses dados e solicitou que você fizesse uma análise detalhada em um notebook. O notebook precisa estar **bem estruturado** e com **_markdowns_** explicando cada insight encontrado.\n",
        ">\n",
        "<font size = '5'> <font color = \"gold\">**_Objetivos_** </font> 🎯\n",
        ">\n",
        "Leia o dataset e realize uma análise sabendo das seguintes questões que precisam ser respondidas:\n",
        "\n",
        "><font color='gold'>**_a_**.</font> Primeiramente, coloque a coluna Funcionário como índice.\n",
        ">\n",
        "><font color='gold'>**_b_**.</font> Sabendo que a coluna meses não é necessária para a análise e deve ser retirada, qual a média de idade dos funcionários?\n",
        ">\n",
        "><font color='gold'>**_c_**.</font> Dos funcionários que têm filhos, qual o número mais comum?\n",
        ">\n",
        "><font color='gold'>**_d_**.</font> Qual a média e a mediana dos salários dos funcionários? O que esses valores podem indicar?\n",
        ">\n",
        "><font color='gold'>**_e_**.</font> Quais são os tipos de instrução existentes?\n",
        ">\n",
        "><font color='gold'>**_f_**.</font> Qual a média de salário e idade das pessoas casadas?\n",
        ">\n",
        "><font color='gold'>**_g_**.</font> Qual o funcionário que possui maior salário (informe seus atributos)?\n",
        ">\n",
        "><font color='gold'>**_h_**.</font> Qual o funcionário que possui menor idade (informe seus atributos)?\n",
        ">\n",
        "><font color='gold'>**_i_**.</font> Quem são os funcionários que possuem no máximo 35 anos, são da capital e tem instrução de 2o grau?\n",
        ">\n",
        "><font color='gold'>**_j_**.</font> Faça uma correlação entre todos os atributos. (Dica: mapeie os atributos qualitativos para atributos quantitativos. Ex: solteiro: 1, casado: 2, etc)\n",
        ">\n",
        "><font color='gold'>**_k_**.</font> Forneça pelo menos mais 3 informações que você achar interessante (Você pode se basear nessa análise\n",
        "exploratória de dados feita em R: [Análise em R](http://cursos.leg.ufpr.br/ecr/analise-exploratoria-de-dados.html#o-conjunto-de-dados-milsa)."
      ],
      "metadata": {
        "id": "HWg0sea-qF30"
      }
    },
    {
      "cell_type": "markdown",
      "source": [
        "## <font color='gold'>**_Primeiros passos_**</font>"
      ],
      "metadata": {
        "id": "Ma8SfG29wV_x"
      }
    },
    {
      "cell_type": "markdown",
      "source": [
        "- Primeiramente, <font color='magenta'>importamos</font> as bibliotecas <font color='yellow'>**_Pandas, Numpy, Matplotlib, Seaborn_** </font> para realizarmos nossas análises."
      ],
      "metadata": {
        "id": "fWDSwrgKwhUe"
      }
    },
    {
      "cell_type": "code",
      "execution_count": null,
      "metadata": {
        "id": "lSx9itQWnEed"
      },
      "outputs": [],
      "source": [
        "import pandas as pd\n",
        "import numpy as np\n",
        "import matplotlib\n",
        "import matplotlib.pyplot as plt\n",
        "import seaborn as sns"
      ]
    },
    {
      "cell_type": "markdown",
      "source": [
        "- Agora, criamos um <font color='Yellow'>**_DataFrame_**</font> com as informações disponíveis no [conjunto de dados](http://www.leg.ufpr.br/~fernandomayer/data/milsa.csv)"
      ],
      "metadata": {
        "id": "Ib4UH5Guw0_n"
      }
    },
    {
      "cell_type": "code",
      "source": [
        "url = \"http://www.leg.ufpr.br/~fernandomayer/data/milsa.csv\"\n",
        "df = pd.read_csv(url)"
      ],
      "metadata": {
        "id": "IQW2lZMCeJZS"
      },
      "execution_count": null,
      "outputs": []
    },
    {
      "cell_type": "code",
      "source": [
        "df.head()"
      ],
      "metadata": {
        "colab": {
          "base_uri": "https://localhost:8080/",
          "height": 206
        },
        "id": "GOdRK1W5gO9v",
        "outputId": "d43abd32-741e-4fd7-cf1c-f2d733ff1ef4"
      },
      "execution_count": null,
      "outputs": [
        {
          "output_type": "execute_result",
          "data": {
            "text/plain": [
              "   Funcionario Est.civil     Inst  Filhos  Salario  Anos  Meses    Regiao\n",
              "0            1  solteiro  1o Grau     NaN     4.00    26      3  interior\n",
              "1            2    casado  1o Grau     1.0     4.56    32     10   capital\n",
              "2            3    casado  1o Grau     2.0     5.25    36      5   capital\n",
              "3            4  solteiro  2o Grau     NaN     5.73    20     10     outro\n",
              "4            5  solteiro  1o Grau     NaN     6.26    40      7     outro"
            ],
            "text/html": [
              "\n",
              "  <div id=\"df-082ebf97-4194-47de-ae83-1fadeedb41b2\">\n",
              "    <div class=\"colab-df-container\">\n",
              "      <div>\n",
              "<style scoped>\n",
              "    .dataframe tbody tr th:only-of-type {\n",
              "        vertical-align: middle;\n",
              "    }\n",
              "\n",
              "    .dataframe tbody tr th {\n",
              "        vertical-align: top;\n",
              "    }\n",
              "\n",
              "    .dataframe thead th {\n",
              "        text-align: right;\n",
              "    }\n",
              "</style>\n",
              "<table border=\"1\" class=\"dataframe\">\n",
              "  <thead>\n",
              "    <tr style=\"text-align: right;\">\n",
              "      <th></th>\n",
              "      <th>Funcionario</th>\n",
              "      <th>Est.civil</th>\n",
              "      <th>Inst</th>\n",
              "      <th>Filhos</th>\n",
              "      <th>Salario</th>\n",
              "      <th>Anos</th>\n",
              "      <th>Meses</th>\n",
              "      <th>Regiao</th>\n",
              "    </tr>\n",
              "  </thead>\n",
              "  <tbody>\n",
              "    <tr>\n",
              "      <th>0</th>\n",
              "      <td>1</td>\n",
              "      <td>solteiro</td>\n",
              "      <td>1o Grau</td>\n",
              "      <td>NaN</td>\n",
              "      <td>4.00</td>\n",
              "      <td>26</td>\n",
              "      <td>3</td>\n",
              "      <td>interior</td>\n",
              "    </tr>\n",
              "    <tr>\n",
              "      <th>1</th>\n",
              "      <td>2</td>\n",
              "      <td>casado</td>\n",
              "      <td>1o Grau</td>\n",
              "      <td>1.0</td>\n",
              "      <td>4.56</td>\n",
              "      <td>32</td>\n",
              "      <td>10</td>\n",
              "      <td>capital</td>\n",
              "    </tr>\n",
              "    <tr>\n",
              "      <th>2</th>\n",
              "      <td>3</td>\n",
              "      <td>casado</td>\n",
              "      <td>1o Grau</td>\n",
              "      <td>2.0</td>\n",
              "      <td>5.25</td>\n",
              "      <td>36</td>\n",
              "      <td>5</td>\n",
              "      <td>capital</td>\n",
              "    </tr>\n",
              "    <tr>\n",
              "      <th>3</th>\n",
              "      <td>4</td>\n",
              "      <td>solteiro</td>\n",
              "      <td>2o Grau</td>\n",
              "      <td>NaN</td>\n",
              "      <td>5.73</td>\n",
              "      <td>20</td>\n",
              "      <td>10</td>\n",
              "      <td>outro</td>\n",
              "    </tr>\n",
              "    <tr>\n",
              "      <th>4</th>\n",
              "      <td>5</td>\n",
              "      <td>solteiro</td>\n",
              "      <td>1o Grau</td>\n",
              "      <td>NaN</td>\n",
              "      <td>6.26</td>\n",
              "      <td>40</td>\n",
              "      <td>7</td>\n",
              "      <td>outro</td>\n",
              "    </tr>\n",
              "  </tbody>\n",
              "</table>\n",
              "</div>\n",
              "      <button class=\"colab-df-convert\" onclick=\"convertToInteractive('df-082ebf97-4194-47de-ae83-1fadeedb41b2')\"\n",
              "              title=\"Convert this dataframe to an interactive table.\"\n",
              "              style=\"display:none;\">\n",
              "        \n",
              "  <svg xmlns=\"http://www.w3.org/2000/svg\" height=\"24px\"viewBox=\"0 0 24 24\"\n",
              "       width=\"24px\">\n",
              "    <path d=\"M0 0h24v24H0V0z\" fill=\"none\"/>\n",
              "    <path d=\"M18.56 5.44l.94 2.06.94-2.06 2.06-.94-2.06-.94-.94-2.06-.94 2.06-2.06.94zm-11 1L8.5 8.5l.94-2.06 2.06-.94-2.06-.94L8.5 2.5l-.94 2.06-2.06.94zm10 10l.94 2.06.94-2.06 2.06-.94-2.06-.94-.94-2.06-.94 2.06-2.06.94z\"/><path d=\"M17.41 7.96l-1.37-1.37c-.4-.4-.92-.59-1.43-.59-.52 0-1.04.2-1.43.59L10.3 9.45l-7.72 7.72c-.78.78-.78 2.05 0 2.83L4 21.41c.39.39.9.59 1.41.59.51 0 1.02-.2 1.41-.59l7.78-7.78 2.81-2.81c.8-.78.8-2.07 0-2.86zM5.41 20L4 18.59l7.72-7.72 1.47 1.35L5.41 20z\"/>\n",
              "  </svg>\n",
              "      </button>\n",
              "      \n",
              "  <style>\n",
              "    .colab-df-container {\n",
              "      display:flex;\n",
              "      flex-wrap:wrap;\n",
              "      gap: 12px;\n",
              "    }\n",
              "\n",
              "    .colab-df-convert {\n",
              "      background-color: #E8F0FE;\n",
              "      border: none;\n",
              "      border-radius: 50%;\n",
              "      cursor: pointer;\n",
              "      display: none;\n",
              "      fill: #1967D2;\n",
              "      height: 32px;\n",
              "      padding: 0 0 0 0;\n",
              "      width: 32px;\n",
              "    }\n",
              "\n",
              "    .colab-df-convert:hover {\n",
              "      background-color: #E2EBFA;\n",
              "      box-shadow: 0px 1px 2px rgba(60, 64, 67, 0.3), 0px 1px 3px 1px rgba(60, 64, 67, 0.15);\n",
              "      fill: #174EA6;\n",
              "    }\n",
              "\n",
              "    [theme=dark] .colab-df-convert {\n",
              "      background-color: #3B4455;\n",
              "      fill: #D2E3FC;\n",
              "    }\n",
              "\n",
              "    [theme=dark] .colab-df-convert:hover {\n",
              "      background-color: #434B5C;\n",
              "      box-shadow: 0px 1px 3px 1px rgba(0, 0, 0, 0.15);\n",
              "      filter: drop-shadow(0px 1px 2px rgba(0, 0, 0, 0.3));\n",
              "      fill: #FFFFFF;\n",
              "    }\n",
              "  </style>\n",
              "\n",
              "      <script>\n",
              "        const buttonEl =\n",
              "          document.querySelector('#df-082ebf97-4194-47de-ae83-1fadeedb41b2 button.colab-df-convert');\n",
              "        buttonEl.style.display =\n",
              "          google.colab.kernel.accessAllowed ? 'block' : 'none';\n",
              "\n",
              "        async function convertToInteractive(key) {\n",
              "          const element = document.querySelector('#df-082ebf97-4194-47de-ae83-1fadeedb41b2');\n",
              "          const dataTable =\n",
              "            await google.colab.kernel.invokeFunction('convertToInteractive',\n",
              "                                                     [key], {});\n",
              "          if (!dataTable) return;\n",
              "\n",
              "          const docLinkHtml = 'Like what you see? Visit the ' +\n",
              "            '<a target=\"_blank\" href=https://colab.research.google.com/notebooks/data_table.ipynb>data table notebook</a>'\n",
              "            + ' to learn more about interactive tables.';\n",
              "          element.innerHTML = '';\n",
              "          dataTable['output_type'] = 'display_data';\n",
              "          await google.colab.output.renderOutput(dataTable, element);\n",
              "          const docLink = document.createElement('div');\n",
              "          docLink.innerHTML = docLinkHtml;\n",
              "          element.appendChild(docLink);\n",
              "        }\n",
              "      </script>\n",
              "    </div>\n",
              "  </div>\n",
              "  "
            ]
          },
          "metadata": {},
          "execution_count": 32
        }
      ]
    },
    {
      "cell_type": "code",
      "source": [
        "df.tail()"
      ],
      "metadata": {
        "colab": {
          "base_uri": "https://localhost:8080/",
          "height": 206
        },
        "id": "0xQv6qzzKD99",
        "outputId": "06352c3a-6514-4f79-b307-98d860e48e18"
      },
      "execution_count": null,
      "outputs": [
        {
          "output_type": "execute_result",
          "data": {
            "text/plain": [
              "    Funcionario Est.civil      Inst  Filhos  Salario  Anos  Meses    Regiao\n",
              "31           32    casado   2o Grau     1.0    16.61    36      4  interior\n",
              "32           33    casado  Superior     3.0    17.26    43      7   capital\n",
              "33           34  solteiro  Superior     NaN    18.75    33      7   capital\n",
              "34           35    casado   2o Grau     2.0    19.40    48     11   capital\n",
              "35           36    casado  Superior     3.0    23.30    42      2  interior"
            ],
            "text/html": [
              "\n",
              "  <div id=\"df-8dc285db-5ed9-4887-8376-198b8ac41ac0\">\n",
              "    <div class=\"colab-df-container\">\n",
              "      <div>\n",
              "<style scoped>\n",
              "    .dataframe tbody tr th:only-of-type {\n",
              "        vertical-align: middle;\n",
              "    }\n",
              "\n",
              "    .dataframe tbody tr th {\n",
              "        vertical-align: top;\n",
              "    }\n",
              "\n",
              "    .dataframe thead th {\n",
              "        text-align: right;\n",
              "    }\n",
              "</style>\n",
              "<table border=\"1\" class=\"dataframe\">\n",
              "  <thead>\n",
              "    <tr style=\"text-align: right;\">\n",
              "      <th></th>\n",
              "      <th>Funcionario</th>\n",
              "      <th>Est.civil</th>\n",
              "      <th>Inst</th>\n",
              "      <th>Filhos</th>\n",
              "      <th>Salario</th>\n",
              "      <th>Anos</th>\n",
              "      <th>Meses</th>\n",
              "      <th>Regiao</th>\n",
              "    </tr>\n",
              "  </thead>\n",
              "  <tbody>\n",
              "    <tr>\n",
              "      <th>31</th>\n",
              "      <td>32</td>\n",
              "      <td>casado</td>\n",
              "      <td>2o Grau</td>\n",
              "      <td>1.0</td>\n",
              "      <td>16.61</td>\n",
              "      <td>36</td>\n",
              "      <td>4</td>\n",
              "      <td>interior</td>\n",
              "    </tr>\n",
              "    <tr>\n",
              "      <th>32</th>\n",
              "      <td>33</td>\n",
              "      <td>casado</td>\n",
              "      <td>Superior</td>\n",
              "      <td>3.0</td>\n",
              "      <td>17.26</td>\n",
              "      <td>43</td>\n",
              "      <td>7</td>\n",
              "      <td>capital</td>\n",
              "    </tr>\n",
              "    <tr>\n",
              "      <th>33</th>\n",
              "      <td>34</td>\n",
              "      <td>solteiro</td>\n",
              "      <td>Superior</td>\n",
              "      <td>NaN</td>\n",
              "      <td>18.75</td>\n",
              "      <td>33</td>\n",
              "      <td>7</td>\n",
              "      <td>capital</td>\n",
              "    </tr>\n",
              "    <tr>\n",
              "      <th>34</th>\n",
              "      <td>35</td>\n",
              "      <td>casado</td>\n",
              "      <td>2o Grau</td>\n",
              "      <td>2.0</td>\n",
              "      <td>19.40</td>\n",
              "      <td>48</td>\n",
              "      <td>11</td>\n",
              "      <td>capital</td>\n",
              "    </tr>\n",
              "    <tr>\n",
              "      <th>35</th>\n",
              "      <td>36</td>\n",
              "      <td>casado</td>\n",
              "      <td>Superior</td>\n",
              "      <td>3.0</td>\n",
              "      <td>23.30</td>\n",
              "      <td>42</td>\n",
              "      <td>2</td>\n",
              "      <td>interior</td>\n",
              "    </tr>\n",
              "  </tbody>\n",
              "</table>\n",
              "</div>\n",
              "      <button class=\"colab-df-convert\" onclick=\"convertToInteractive('df-8dc285db-5ed9-4887-8376-198b8ac41ac0')\"\n",
              "              title=\"Convert this dataframe to an interactive table.\"\n",
              "              style=\"display:none;\">\n",
              "        \n",
              "  <svg xmlns=\"http://www.w3.org/2000/svg\" height=\"24px\"viewBox=\"0 0 24 24\"\n",
              "       width=\"24px\">\n",
              "    <path d=\"M0 0h24v24H0V0z\" fill=\"none\"/>\n",
              "    <path d=\"M18.56 5.44l.94 2.06.94-2.06 2.06-.94-2.06-.94-.94-2.06-.94 2.06-2.06.94zm-11 1L8.5 8.5l.94-2.06 2.06-.94-2.06-.94L8.5 2.5l-.94 2.06-2.06.94zm10 10l.94 2.06.94-2.06 2.06-.94-2.06-.94-.94-2.06-.94 2.06-2.06.94z\"/><path d=\"M17.41 7.96l-1.37-1.37c-.4-.4-.92-.59-1.43-.59-.52 0-1.04.2-1.43.59L10.3 9.45l-7.72 7.72c-.78.78-.78 2.05 0 2.83L4 21.41c.39.39.9.59 1.41.59.51 0 1.02-.2 1.41-.59l7.78-7.78 2.81-2.81c.8-.78.8-2.07 0-2.86zM5.41 20L4 18.59l7.72-7.72 1.47 1.35L5.41 20z\"/>\n",
              "  </svg>\n",
              "      </button>\n",
              "      \n",
              "  <style>\n",
              "    .colab-df-container {\n",
              "      display:flex;\n",
              "      flex-wrap:wrap;\n",
              "      gap: 12px;\n",
              "    }\n",
              "\n",
              "    .colab-df-convert {\n",
              "      background-color: #E8F0FE;\n",
              "      border: none;\n",
              "      border-radius: 50%;\n",
              "      cursor: pointer;\n",
              "      display: none;\n",
              "      fill: #1967D2;\n",
              "      height: 32px;\n",
              "      padding: 0 0 0 0;\n",
              "      width: 32px;\n",
              "    }\n",
              "\n",
              "    .colab-df-convert:hover {\n",
              "      background-color: #E2EBFA;\n",
              "      box-shadow: 0px 1px 2px rgba(60, 64, 67, 0.3), 0px 1px 3px 1px rgba(60, 64, 67, 0.15);\n",
              "      fill: #174EA6;\n",
              "    }\n",
              "\n",
              "    [theme=dark] .colab-df-convert {\n",
              "      background-color: #3B4455;\n",
              "      fill: #D2E3FC;\n",
              "    }\n",
              "\n",
              "    [theme=dark] .colab-df-convert:hover {\n",
              "      background-color: #434B5C;\n",
              "      box-shadow: 0px 1px 3px 1px rgba(0, 0, 0, 0.15);\n",
              "      filter: drop-shadow(0px 1px 2px rgba(0, 0, 0, 0.3));\n",
              "      fill: #FFFFFF;\n",
              "    }\n",
              "  </style>\n",
              "\n",
              "      <script>\n",
              "        const buttonEl =\n",
              "          document.querySelector('#df-8dc285db-5ed9-4887-8376-198b8ac41ac0 button.colab-df-convert');\n",
              "        buttonEl.style.display =\n",
              "          google.colab.kernel.accessAllowed ? 'block' : 'none';\n",
              "\n",
              "        async function convertToInteractive(key) {\n",
              "          const element = document.querySelector('#df-8dc285db-5ed9-4887-8376-198b8ac41ac0');\n",
              "          const dataTable =\n",
              "            await google.colab.kernel.invokeFunction('convertToInteractive',\n",
              "                                                     [key], {});\n",
              "          if (!dataTable) return;\n",
              "\n",
              "          const docLinkHtml = 'Like what you see? Visit the ' +\n",
              "            '<a target=\"_blank\" href=https://colab.research.google.com/notebooks/data_table.ipynb>data table notebook</a>'\n",
              "            + ' to learn more about interactive tables.';\n",
              "          element.innerHTML = '';\n",
              "          dataTable['output_type'] = 'display_data';\n",
              "          await google.colab.output.renderOutput(dataTable, element);\n",
              "          const docLink = document.createElement('div');\n",
              "          docLink.innerHTML = docLinkHtml;\n",
              "          element.appendChild(docLink);\n",
              "        }\n",
              "      </script>\n",
              "    </div>\n",
              "  </div>\n",
              "  "
            ]
          },
          "metadata": {},
          "execution_count": 33
        }
      ]
    },
    {
      "cell_type": "markdown",
      "source": [
        "- Vamos utilizar o código de formatação <font color='83FF33'>**_ANSI escape sequence_**</font> para colorirmos a saída dos dados no terminal.\n",
        "\n",
        "  - Aqui, delimitamos 4 variáveis com os códigos de coloração verde, amarelo, finalização do código e cor neutra respectivamente;\n",
        "\n",
        "  - A criação das variáveis foi feita para tornar a escrita do código das cores o mais limpo e rápido possível."
      ],
      "metadata": {
        "id": "B43jksZCz4QB"
      }
    },
    {
      "cell_type": "code",
      "source": [
        "cor_verde = '\\033[1;32m'\n",
        "cor_amarelo = '\\033[0;33m'\n",
        "cor_fim = '\\033[m'\n",
        "cor_null = '\\033[0m'"
      ],
      "metadata": {
        "id": "CDdNuKXtz38O"
      },
      "execution_count": null,
      "outputs": []
    },
    {
      "cell_type": "markdown",
      "source": [
        "- Criaremos também uma função <font color='0984FF'>lambda</font> para formatar nossos números float para terem duas casas decimais no print."
      ],
      "metadata": {
        "id": "ceTY74gy1Jvj"
      }
    },
    {
      "cell_type": "code",
      "source": [
        "formatar = lambda x: '%.2f' % x"
      ],
      "metadata": {
        "id": "N-TkgkgD1JWm"
      },
      "execution_count": null,
      "outputs": []
    },
    {
      "cell_type": "markdown",
      "source": [
        "## <font color='Gold'>**_Análises do DataFrame_**</font>"
      ],
      "metadata": {
        "id": "6y-7S2qCyB02"
      }
    },
    {
      "cell_type": "markdown",
      "source": [
        "Com as análises propostas no enunciado inicial, teremos uma visão e um entendimento melhor desses dados tabulares."
      ],
      "metadata": {
        "id": "_Cyg6jEqyiCg"
      }
    },
    {
      "cell_type": "markdown",
      "source": [
        "### <font color='gold'>**_a._**</font> **_Primeiramente, coloque a coluna Funcionário como índice._**"
      ],
      "metadata": {
        "id": "6t9I5488gb2w"
      }
    },
    {
      "cell_type": "markdown",
      "source": [
        "- Para podermos colocar uma coluna específica como índice no nosso DataFrame, utilizamos o método <font color='09D1FF'>**_set_index('nome_tabela')_**</font>, assim tornando a coluna _'Funcionários'_ em nosso índice."
      ],
      "metadata": {
        "id": "-naB3jjIy5fK"
      }
    },
    {
      "cell_type": "code",
      "source": [
        "df = df.set_index('Funcionario')\n",
        "df.head(10)"
      ],
      "metadata": {
        "colab": {
          "base_uri": "https://localhost:8080/",
          "height": 394
        },
        "id": "4kS65G4Wgw9r",
        "outputId": "42de863b-b0f1-490d-ff93-03dd7ff2a9c4"
      },
      "execution_count": null,
      "outputs": [
        {
          "output_type": "execute_result",
          "data": {
            "text/plain": [
              "            Est.civil     Inst  Filhos  Salario  Anos  Meses    Regiao\n",
              "Funcionario                                                           \n",
              "1            solteiro  1o Grau     NaN     4.00    26      3  interior\n",
              "2              casado  1o Grau     1.0     4.56    32     10   capital\n",
              "3              casado  1o Grau     2.0     5.25    36      5   capital\n",
              "4            solteiro  2o Grau     NaN     5.73    20     10     outro\n",
              "5            solteiro  1o Grau     NaN     6.26    40      7     outro\n",
              "6              casado  1o Grau     0.0     6.66    28      0  interior\n",
              "7            solteiro  1o Grau     NaN     6.86    41      0  interior\n",
              "8            solteiro  1o Grau     NaN     7.39    43      4   capital\n",
              "9              casado  2o Grau     1.0     7.59    34     10   capital\n",
              "10           solteiro  2o Grau     NaN     7.44    23      6     outro"
            ],
            "text/html": [
              "\n",
              "  <div id=\"df-13e17b9c-23e2-4b8e-bda8-13df5f817186\">\n",
              "    <div class=\"colab-df-container\">\n",
              "      <div>\n",
              "<style scoped>\n",
              "    .dataframe tbody tr th:only-of-type {\n",
              "        vertical-align: middle;\n",
              "    }\n",
              "\n",
              "    .dataframe tbody tr th {\n",
              "        vertical-align: top;\n",
              "    }\n",
              "\n",
              "    .dataframe thead th {\n",
              "        text-align: right;\n",
              "    }\n",
              "</style>\n",
              "<table border=\"1\" class=\"dataframe\">\n",
              "  <thead>\n",
              "    <tr style=\"text-align: right;\">\n",
              "      <th></th>\n",
              "      <th>Est.civil</th>\n",
              "      <th>Inst</th>\n",
              "      <th>Filhos</th>\n",
              "      <th>Salario</th>\n",
              "      <th>Anos</th>\n",
              "      <th>Meses</th>\n",
              "      <th>Regiao</th>\n",
              "    </tr>\n",
              "    <tr>\n",
              "      <th>Funcionario</th>\n",
              "      <th></th>\n",
              "      <th></th>\n",
              "      <th></th>\n",
              "      <th></th>\n",
              "      <th></th>\n",
              "      <th></th>\n",
              "      <th></th>\n",
              "    </tr>\n",
              "  </thead>\n",
              "  <tbody>\n",
              "    <tr>\n",
              "      <th>1</th>\n",
              "      <td>solteiro</td>\n",
              "      <td>1o Grau</td>\n",
              "      <td>NaN</td>\n",
              "      <td>4.00</td>\n",
              "      <td>26</td>\n",
              "      <td>3</td>\n",
              "      <td>interior</td>\n",
              "    </tr>\n",
              "    <tr>\n",
              "      <th>2</th>\n",
              "      <td>casado</td>\n",
              "      <td>1o Grau</td>\n",
              "      <td>1.0</td>\n",
              "      <td>4.56</td>\n",
              "      <td>32</td>\n",
              "      <td>10</td>\n",
              "      <td>capital</td>\n",
              "    </tr>\n",
              "    <tr>\n",
              "      <th>3</th>\n",
              "      <td>casado</td>\n",
              "      <td>1o Grau</td>\n",
              "      <td>2.0</td>\n",
              "      <td>5.25</td>\n",
              "      <td>36</td>\n",
              "      <td>5</td>\n",
              "      <td>capital</td>\n",
              "    </tr>\n",
              "    <tr>\n",
              "      <th>4</th>\n",
              "      <td>solteiro</td>\n",
              "      <td>2o Grau</td>\n",
              "      <td>NaN</td>\n",
              "      <td>5.73</td>\n",
              "      <td>20</td>\n",
              "      <td>10</td>\n",
              "      <td>outro</td>\n",
              "    </tr>\n",
              "    <tr>\n",
              "      <th>5</th>\n",
              "      <td>solteiro</td>\n",
              "      <td>1o Grau</td>\n",
              "      <td>NaN</td>\n",
              "      <td>6.26</td>\n",
              "      <td>40</td>\n",
              "      <td>7</td>\n",
              "      <td>outro</td>\n",
              "    </tr>\n",
              "    <tr>\n",
              "      <th>6</th>\n",
              "      <td>casado</td>\n",
              "      <td>1o Grau</td>\n",
              "      <td>0.0</td>\n",
              "      <td>6.66</td>\n",
              "      <td>28</td>\n",
              "      <td>0</td>\n",
              "      <td>interior</td>\n",
              "    </tr>\n",
              "    <tr>\n",
              "      <th>7</th>\n",
              "      <td>solteiro</td>\n",
              "      <td>1o Grau</td>\n",
              "      <td>NaN</td>\n",
              "      <td>6.86</td>\n",
              "      <td>41</td>\n",
              "      <td>0</td>\n",
              "      <td>interior</td>\n",
              "    </tr>\n",
              "    <tr>\n",
              "      <th>8</th>\n",
              "      <td>solteiro</td>\n",
              "      <td>1o Grau</td>\n",
              "      <td>NaN</td>\n",
              "      <td>7.39</td>\n",
              "      <td>43</td>\n",
              "      <td>4</td>\n",
              "      <td>capital</td>\n",
              "    </tr>\n",
              "    <tr>\n",
              "      <th>9</th>\n",
              "      <td>casado</td>\n",
              "      <td>2o Grau</td>\n",
              "      <td>1.0</td>\n",
              "      <td>7.59</td>\n",
              "      <td>34</td>\n",
              "      <td>10</td>\n",
              "      <td>capital</td>\n",
              "    </tr>\n",
              "    <tr>\n",
              "      <th>10</th>\n",
              "      <td>solteiro</td>\n",
              "      <td>2o Grau</td>\n",
              "      <td>NaN</td>\n",
              "      <td>7.44</td>\n",
              "      <td>23</td>\n",
              "      <td>6</td>\n",
              "      <td>outro</td>\n",
              "    </tr>\n",
              "  </tbody>\n",
              "</table>\n",
              "</div>\n",
              "      <button class=\"colab-df-convert\" onclick=\"convertToInteractive('df-13e17b9c-23e2-4b8e-bda8-13df5f817186')\"\n",
              "              title=\"Convert this dataframe to an interactive table.\"\n",
              "              style=\"display:none;\">\n",
              "        \n",
              "  <svg xmlns=\"http://www.w3.org/2000/svg\" height=\"24px\"viewBox=\"0 0 24 24\"\n",
              "       width=\"24px\">\n",
              "    <path d=\"M0 0h24v24H0V0z\" fill=\"none\"/>\n",
              "    <path d=\"M18.56 5.44l.94 2.06.94-2.06 2.06-.94-2.06-.94-.94-2.06-.94 2.06-2.06.94zm-11 1L8.5 8.5l.94-2.06 2.06-.94-2.06-.94L8.5 2.5l-.94 2.06-2.06.94zm10 10l.94 2.06.94-2.06 2.06-.94-2.06-.94-.94-2.06-.94 2.06-2.06.94z\"/><path d=\"M17.41 7.96l-1.37-1.37c-.4-.4-.92-.59-1.43-.59-.52 0-1.04.2-1.43.59L10.3 9.45l-7.72 7.72c-.78.78-.78 2.05 0 2.83L4 21.41c.39.39.9.59 1.41.59.51 0 1.02-.2 1.41-.59l7.78-7.78 2.81-2.81c.8-.78.8-2.07 0-2.86zM5.41 20L4 18.59l7.72-7.72 1.47 1.35L5.41 20z\"/>\n",
              "  </svg>\n",
              "      </button>\n",
              "      \n",
              "  <style>\n",
              "    .colab-df-container {\n",
              "      display:flex;\n",
              "      flex-wrap:wrap;\n",
              "      gap: 12px;\n",
              "    }\n",
              "\n",
              "    .colab-df-convert {\n",
              "      background-color: #E8F0FE;\n",
              "      border: none;\n",
              "      border-radius: 50%;\n",
              "      cursor: pointer;\n",
              "      display: none;\n",
              "      fill: #1967D2;\n",
              "      height: 32px;\n",
              "      padding: 0 0 0 0;\n",
              "      width: 32px;\n",
              "    }\n",
              "\n",
              "    .colab-df-convert:hover {\n",
              "      background-color: #E2EBFA;\n",
              "      box-shadow: 0px 1px 2px rgba(60, 64, 67, 0.3), 0px 1px 3px 1px rgba(60, 64, 67, 0.15);\n",
              "      fill: #174EA6;\n",
              "    }\n",
              "\n",
              "    [theme=dark] .colab-df-convert {\n",
              "      background-color: #3B4455;\n",
              "      fill: #D2E3FC;\n",
              "    }\n",
              "\n",
              "    [theme=dark] .colab-df-convert:hover {\n",
              "      background-color: #434B5C;\n",
              "      box-shadow: 0px 1px 3px 1px rgba(0, 0, 0, 0.15);\n",
              "      filter: drop-shadow(0px 1px 2px rgba(0, 0, 0, 0.3));\n",
              "      fill: #FFFFFF;\n",
              "    }\n",
              "  </style>\n",
              "\n",
              "      <script>\n",
              "        const buttonEl =\n",
              "          document.querySelector('#df-13e17b9c-23e2-4b8e-bda8-13df5f817186 button.colab-df-convert');\n",
              "        buttonEl.style.display =\n",
              "          google.colab.kernel.accessAllowed ? 'block' : 'none';\n",
              "\n",
              "        async function convertToInteractive(key) {\n",
              "          const element = document.querySelector('#df-13e17b9c-23e2-4b8e-bda8-13df5f817186');\n",
              "          const dataTable =\n",
              "            await google.colab.kernel.invokeFunction('convertToInteractive',\n",
              "                                                     [key], {});\n",
              "          if (!dataTable) return;\n",
              "\n",
              "          const docLinkHtml = 'Like what you see? Visit the ' +\n",
              "            '<a target=\"_blank\" href=https://colab.research.google.com/notebooks/data_table.ipynb>data table notebook</a>'\n",
              "            + ' to learn more about interactive tables.';\n",
              "          element.innerHTML = '';\n",
              "          dataTable['output_type'] = 'display_data';\n",
              "          await google.colab.output.renderOutput(dataTable, element);\n",
              "          const docLink = document.createElement('div');\n",
              "          docLink.innerHTML = docLinkHtml;\n",
              "          element.appendChild(docLink);\n",
              "        }\n",
              "      </script>\n",
              "    </div>\n",
              "  </div>\n",
              "  "
            ]
          },
          "metadata": {},
          "execution_count": 36
        }
      ]
    },
    {
      "cell_type": "code",
      "source": [
        "df.tail()"
      ],
      "metadata": {
        "colab": {
          "base_uri": "https://localhost:8080/",
          "height": 238
        },
        "id": "FU82e0UEKM69",
        "outputId": "8100a653-7284-4360-da32-b53331ad5c5a"
      },
      "execution_count": null,
      "outputs": [
        {
          "output_type": "execute_result",
          "data": {
            "text/plain": [
              "            Est.civil      Inst  Filhos  Salario  Anos  Meses    Regiao\n",
              "Funcionario                                                            \n",
              "32             casado   2o Grau     1.0    16.61    36      4  interior\n",
              "33             casado  Superior     3.0    17.26    43      7   capital\n",
              "34           solteiro  Superior     NaN    18.75    33      7   capital\n",
              "35             casado   2o Grau     2.0    19.40    48     11   capital\n",
              "36             casado  Superior     3.0    23.30    42      2  interior"
            ],
            "text/html": [
              "\n",
              "  <div id=\"df-7ef5c4d1-3f21-4fa3-aa71-0273f8dc044f\">\n",
              "    <div class=\"colab-df-container\">\n",
              "      <div>\n",
              "<style scoped>\n",
              "    .dataframe tbody tr th:only-of-type {\n",
              "        vertical-align: middle;\n",
              "    }\n",
              "\n",
              "    .dataframe tbody tr th {\n",
              "        vertical-align: top;\n",
              "    }\n",
              "\n",
              "    .dataframe thead th {\n",
              "        text-align: right;\n",
              "    }\n",
              "</style>\n",
              "<table border=\"1\" class=\"dataframe\">\n",
              "  <thead>\n",
              "    <tr style=\"text-align: right;\">\n",
              "      <th></th>\n",
              "      <th>Est.civil</th>\n",
              "      <th>Inst</th>\n",
              "      <th>Filhos</th>\n",
              "      <th>Salario</th>\n",
              "      <th>Anos</th>\n",
              "      <th>Meses</th>\n",
              "      <th>Regiao</th>\n",
              "    </tr>\n",
              "    <tr>\n",
              "      <th>Funcionario</th>\n",
              "      <th></th>\n",
              "      <th></th>\n",
              "      <th></th>\n",
              "      <th></th>\n",
              "      <th></th>\n",
              "      <th></th>\n",
              "      <th></th>\n",
              "    </tr>\n",
              "  </thead>\n",
              "  <tbody>\n",
              "    <tr>\n",
              "      <th>32</th>\n",
              "      <td>casado</td>\n",
              "      <td>2o Grau</td>\n",
              "      <td>1.0</td>\n",
              "      <td>16.61</td>\n",
              "      <td>36</td>\n",
              "      <td>4</td>\n",
              "      <td>interior</td>\n",
              "    </tr>\n",
              "    <tr>\n",
              "      <th>33</th>\n",
              "      <td>casado</td>\n",
              "      <td>Superior</td>\n",
              "      <td>3.0</td>\n",
              "      <td>17.26</td>\n",
              "      <td>43</td>\n",
              "      <td>7</td>\n",
              "      <td>capital</td>\n",
              "    </tr>\n",
              "    <tr>\n",
              "      <th>34</th>\n",
              "      <td>solteiro</td>\n",
              "      <td>Superior</td>\n",
              "      <td>NaN</td>\n",
              "      <td>18.75</td>\n",
              "      <td>33</td>\n",
              "      <td>7</td>\n",
              "      <td>capital</td>\n",
              "    </tr>\n",
              "    <tr>\n",
              "      <th>35</th>\n",
              "      <td>casado</td>\n",
              "      <td>2o Grau</td>\n",
              "      <td>2.0</td>\n",
              "      <td>19.40</td>\n",
              "      <td>48</td>\n",
              "      <td>11</td>\n",
              "      <td>capital</td>\n",
              "    </tr>\n",
              "    <tr>\n",
              "      <th>36</th>\n",
              "      <td>casado</td>\n",
              "      <td>Superior</td>\n",
              "      <td>3.0</td>\n",
              "      <td>23.30</td>\n",
              "      <td>42</td>\n",
              "      <td>2</td>\n",
              "      <td>interior</td>\n",
              "    </tr>\n",
              "  </tbody>\n",
              "</table>\n",
              "</div>\n",
              "      <button class=\"colab-df-convert\" onclick=\"convertToInteractive('df-7ef5c4d1-3f21-4fa3-aa71-0273f8dc044f')\"\n",
              "              title=\"Convert this dataframe to an interactive table.\"\n",
              "              style=\"display:none;\">\n",
              "        \n",
              "  <svg xmlns=\"http://www.w3.org/2000/svg\" height=\"24px\"viewBox=\"0 0 24 24\"\n",
              "       width=\"24px\">\n",
              "    <path d=\"M0 0h24v24H0V0z\" fill=\"none\"/>\n",
              "    <path d=\"M18.56 5.44l.94 2.06.94-2.06 2.06-.94-2.06-.94-.94-2.06-.94 2.06-2.06.94zm-11 1L8.5 8.5l.94-2.06 2.06-.94-2.06-.94L8.5 2.5l-.94 2.06-2.06.94zm10 10l.94 2.06.94-2.06 2.06-.94-2.06-.94-.94-2.06-.94 2.06-2.06.94z\"/><path d=\"M17.41 7.96l-1.37-1.37c-.4-.4-.92-.59-1.43-.59-.52 0-1.04.2-1.43.59L10.3 9.45l-7.72 7.72c-.78.78-.78 2.05 0 2.83L4 21.41c.39.39.9.59 1.41.59.51 0 1.02-.2 1.41-.59l7.78-7.78 2.81-2.81c.8-.78.8-2.07 0-2.86zM5.41 20L4 18.59l7.72-7.72 1.47 1.35L5.41 20z\"/>\n",
              "  </svg>\n",
              "      </button>\n",
              "      \n",
              "  <style>\n",
              "    .colab-df-container {\n",
              "      display:flex;\n",
              "      flex-wrap:wrap;\n",
              "      gap: 12px;\n",
              "    }\n",
              "\n",
              "    .colab-df-convert {\n",
              "      background-color: #E8F0FE;\n",
              "      border: none;\n",
              "      border-radius: 50%;\n",
              "      cursor: pointer;\n",
              "      display: none;\n",
              "      fill: #1967D2;\n",
              "      height: 32px;\n",
              "      padding: 0 0 0 0;\n",
              "      width: 32px;\n",
              "    }\n",
              "\n",
              "    .colab-df-convert:hover {\n",
              "      background-color: #E2EBFA;\n",
              "      box-shadow: 0px 1px 2px rgba(60, 64, 67, 0.3), 0px 1px 3px 1px rgba(60, 64, 67, 0.15);\n",
              "      fill: #174EA6;\n",
              "    }\n",
              "\n",
              "    [theme=dark] .colab-df-convert {\n",
              "      background-color: #3B4455;\n",
              "      fill: #D2E3FC;\n",
              "    }\n",
              "\n",
              "    [theme=dark] .colab-df-convert:hover {\n",
              "      background-color: #434B5C;\n",
              "      box-shadow: 0px 1px 3px 1px rgba(0, 0, 0, 0.15);\n",
              "      filter: drop-shadow(0px 1px 2px rgba(0, 0, 0, 0.3));\n",
              "      fill: #FFFFFF;\n",
              "    }\n",
              "  </style>\n",
              "\n",
              "      <script>\n",
              "        const buttonEl =\n",
              "          document.querySelector('#df-7ef5c4d1-3f21-4fa3-aa71-0273f8dc044f button.colab-df-convert');\n",
              "        buttonEl.style.display =\n",
              "          google.colab.kernel.accessAllowed ? 'block' : 'none';\n",
              "\n",
              "        async function convertToInteractive(key) {\n",
              "          const element = document.querySelector('#df-7ef5c4d1-3f21-4fa3-aa71-0273f8dc044f');\n",
              "          const dataTable =\n",
              "            await google.colab.kernel.invokeFunction('convertToInteractive',\n",
              "                                                     [key], {});\n",
              "          if (!dataTable) return;\n",
              "\n",
              "          const docLinkHtml = 'Like what you see? Visit the ' +\n",
              "            '<a target=\"_blank\" href=https://colab.research.google.com/notebooks/data_table.ipynb>data table notebook</a>'\n",
              "            + ' to learn more about interactive tables.';\n",
              "          element.innerHTML = '';\n",
              "          dataTable['output_type'] = 'display_data';\n",
              "          await google.colab.output.renderOutput(dataTable, element);\n",
              "          const docLink = document.createElement('div');\n",
              "          docLink.innerHTML = docLinkHtml;\n",
              "          element.appendChild(docLink);\n",
              "        }\n",
              "      </script>\n",
              "    </div>\n",
              "  </div>\n",
              "  "
            ]
          },
          "metadata": {},
          "execution_count": 37
        }
      ]
    },
    {
      "cell_type": "markdown",
      "source": [
        "### <font color='gold'>**_b._**</font> **_Sabendo que a coluna meses não é necessária para a análise e deve ser retirada, qual a média de idade dos funcionários?_**"
      ],
      "metadata": {
        "id": "ZgPBieBBhq5N"
      }
    },
    {
      "cell_type": "markdown",
      "source": [
        "- Para calcularmos a média de idade dos funcionários, atribuímos a variável **_media_idade_** a coluna **_Anos_** com a aplicação do método <font color='09D1FF'>**_mean()_**</font>.\n",
        "\n",
        "  - Lembrando: para sabermos o valor da média, basta somarmos os valores e dividir pela quantidade de valores presentes, como na fórmula abaixo:\n",
        "  >\n",
        "  $Me = {X1 + X2 + X3 + ... + Xn \\over n}$"
      ],
      "metadata": {
        "id": "BumkskP90nal"
      }
    },
    {
      "cell_type": "code",
      "source": [
        "media_idade = df['Anos'].mean()\n",
        "\n",
        "print(f'Média de idade: {cor_verde}{formatar(media_idade)}{cor_fim} anos')"
      ],
      "metadata": {
        "colab": {
          "base_uri": "https://localhost:8080/"
        },
        "id": "axNGoYEvhtp4",
        "outputId": "a9e9bf51-a8b4-45d7-bdaf-02924cd9427c"
      },
      "execution_count": null,
      "outputs": [
        {
          "output_type": "stream",
          "name": "stdout",
          "text": [
            "Média de idade: \u001b[1;32m34.58\u001b[m anos\n"
          ]
        }
      ]
    },
    {
      "cell_type": "markdown",
      "source": [
        "### <font color='gold'>**_c._**</font> **_Dos funcionários que têm filhos, qual o número mais comum?_**"
      ],
      "metadata": {
        "id": "6AslHY-eiCpK"
      }
    },
    {
      "cell_type": "markdown",
      "source": [
        "- Para calcularmos a moda da quantidade de filhos de nossos funcionários, atribuímos a variável **_moda_filhos_** a coluna **_Filhos_** com a aplicação do método <font color='09D1FF'>**_mode()_**</font>."
      ],
      "metadata": {
        "id": "xv3b8XTa2Y3n"
      }
    },
    {
      "cell_type": "code",
      "source": [
        "moda_filhos = df['Filhos'].mode()\n",
        "\n",
        "print(f'Moda da quantidade de filhos:\\n {cor_verde}{moda_filhos}{cor_fim}')"
      ],
      "metadata": {
        "colab": {
          "base_uri": "https://localhost:8080/"
        },
        "id": "cNkPgTxWiFao",
        "outputId": "b1722df1-019c-4291-9f00-f18c55ad31d7"
      },
      "execution_count": null,
      "outputs": [
        {
          "output_type": "stream",
          "name": "stdout",
          "text": [
            "Moda da quantidade de filhos:\n",
            " \u001b[1;32m0    2.0\n",
            "dtype: float64\u001b[m\n"
          ]
        }
      ]
    },
    {
      "cell_type": "markdown",
      "source": [
        "- Assim, podemos concluir que, dos funcionários que possuem filhos, a maioria deles possui <font color='gold'>**2**</font>."
      ],
      "metadata": {
        "id": "eRh5qTfY3oLS"
      }
    },
    {
      "cell_type": "markdown",
      "source": [
        "### <font color='gold'>**_d._**</font> **_Qual a média e a mediana dos salários dos funcionários? O que esses valores podem indicar?_**"
      ],
      "metadata": {
        "id": "xU2oJR7fj5gj"
      }
    },
    {
      "cell_type": "markdown",
      "source": [
        "- Para conseguirmos a média, realizamos a mesma operação presente na questão **_b_**:"
      ],
      "metadata": {
        "id": "73LOtgmk4Ef9"
      }
    },
    {
      "cell_type": "code",
      "source": [
        "media_salarial = df['Salario'].mean()\n",
        "\n",
        "print(f'Média salarial: {cor_verde}{formatar(media_salarial)}{cor_fim}')"
      ],
      "metadata": {
        "colab": {
          "base_uri": "https://localhost:8080/"
        },
        "id": "VTLu0Xl1j6sM",
        "outputId": "b2916c64-4000-437a-f13e-abca5a59cda2"
      },
      "execution_count": null,
      "outputs": [
        {
          "output_type": "stream",
          "name": "stdout",
          "text": [
            "Média salarial: \u001b[1;32m11.12\u001b[m\n"
          ]
        }
      ]
    },
    {
      "cell_type": "markdown",
      "source": [
        "- Para possuirmos a mediana dos salários dos funcionários, utilizamos o método <font color='09D1FF'>**_median()_**</font>.\n",
        "\n",
        "  - Lembrando: a mediana é o valor que ocupa a posição central dos valores quando organizamos esses dados em ordem."
      ],
      "metadata": {
        "id": "QXpx_eRM40As"
      }
    },
    {
      "cell_type": "code",
      "source": [
        "mediana_salarial = df['Salario'].median()\n",
        "\n",
        "print(f'Mediana salarial: {cor_verde}{formatar(mediana_salarial)}{cor_fim}')"
      ],
      "metadata": {
        "colab": {
          "base_uri": "https://localhost:8080/"
        },
        "id": "m8xqGoWvkFyt",
        "outputId": "69938b33-b3d3-428b-fd08-6ee7c03a364a"
      },
      "execution_count": null,
      "outputs": [
        {
          "output_type": "stream",
          "name": "stdout",
          "text": [
            "Mediana salarial: \u001b[1;32m10.16\u001b[m\n"
          ]
        }
      ]
    },
    {
      "cell_type": "markdown",
      "source": [
        "Com esses valores definidos, podemos constatar:\n",
        ">\n",
        "<font color='95D818'>**_1. Existe uma dispariedade de salários muito grande entre os funcionários?_**</font>\n",
        "\n",
        "  - Não, pois nesse caso, como o valor da mediana e da média estão separados por apenas 0.96 pontos, podemos dizer que os salários possuem uma variação pequena entre eles, onde não há nos registros a presença de um funcionário ganhando muito menos ou muito mais do que os outros, o que seria indicado pelo valor da mediana estando muito distante (para mais ou para menos) do valor da média.\n",
        "\n",
        "<font color='95D818'>**_2. Faixa divisória salarial_**</font>\n",
        "\n",
        "  - Com esses dados, podemos dizer que o valor divisor salarial da empresa Milsa é de 10.16, onde metade dos funcionários nos registros ganham menos e a outra metade ganha mais do que esse valor. Sabendo disso e tendo em mente a média salarial de 11.12, podemos inferir que a empresa milsa tende a pagar bem e de maneira relativamente balanceada seus funcionários. Podemos concluir isso devido a falta de discrepâncias grandes entre a média e a mediana salarial. "
      ],
      "metadata": {
        "id": "FKF_1xpd5VUc"
      }
    },
    {
      "cell_type": "markdown",
      "source": [
        "### <font color='gold'>**_e._**</font> **_Quais são os tipos de instrução existentes?_**"
      ],
      "metadata": {
        "id": "HDQ9xMgQkNr5"
      }
    },
    {
      "cell_type": "markdown",
      "source": [
        "- Para sabermos os distintos níveis de instrução dos funionários, atribuímos a variável **_insts_** a coluna **_Inst_** do DataFrame utilizando o método <font color='09D1FF'>**_unique()_**</font>.\n",
        "\n",
        "- Depois, utilizamos um <font color='A918D8'>**_for loop_**</font> con um contador simples, para iterar sobre os itens da lista gerada na variável **_insts._**"
      ],
      "metadata": {
        "id": "jyh9Iwmflv-V"
      }
    },
    {
      "cell_type": "code",
      "source": [
        "insts = df['Inst'].unique()\n",
        "\n",
        "print(f'Tipos de instrução dos funcionários:\\n')\n",
        "\n",
        "cont = 0\n",
        "for data in insts:\n",
        "  cont+= 1\n",
        "  print(f'{cor_amarelo}{cont}{cor_fim}. {cor_verde}{data}{cor_fim}')"
      ],
      "metadata": {
        "colab": {
          "base_uri": "https://localhost:8080/"
        },
        "id": "YYDhjda9kRfu",
        "outputId": "9516a15d-6f60-4a23-c04b-f8acefbf82c0"
      },
      "execution_count": null,
      "outputs": [
        {
          "output_type": "stream",
          "name": "stdout",
          "text": [
            "Tipos de instrução dos funcionários:\n",
            "\n",
            "\u001b[0;33m1\u001b[m. \u001b[1;32m1o Grau\u001b[m\n",
            "\u001b[0;33m2\u001b[m. \u001b[1;32m2o Grau\u001b[m\n",
            "\u001b[0;33m3\u001b[m. \u001b[1;32mSuperior\u001b[m\n"
          ]
        }
      ]
    },
    {
      "cell_type": "markdown",
      "source": [
        "### <font color='gold'>**_f._**</font> **_Qual a média de salário e idade das pessoas casadas?_**"
      ],
      "metadata": {
        "id": "sjLpsSBTlhaL"
      }
    },
    {
      "cell_type": "markdown",
      "source": [
        "- Para realizarmos essa análise, primeiro selecionamos do nosso DataFrame, utilizando o método <font color='09D1FF'>**_loc[ ]_**</font>, as colunas de **_Est.civil_** e **_Salario_** apenas dos funcionários casados."
      ],
      "metadata": {
        "id": "3l4-_pXjm3cl"
      }
    },
    {
      "cell_type": "code",
      "source": [
        "casados_salario = df.loc[(df['Est.civil'] == 'casado'.lower()), ['Est.civil', 'Salario']]\n",
        "\n",
        "casados_salario.head()"
      ],
      "metadata": {
        "colab": {
          "base_uri": "https://localhost:8080/",
          "height": 238
        },
        "id": "sJZVGbLilkbl",
        "outputId": "6ed0733c-afc6-4dea-d8ee-c58ba730fe45"
      },
      "execution_count": null,
      "outputs": [
        {
          "output_type": "execute_result",
          "data": {
            "text/plain": [
              "            Est.civil  Salario\n",
              "Funcionario                   \n",
              "2              casado     4.56\n",
              "3              casado     5.25\n",
              "6              casado     6.66\n",
              "9              casado     7.59\n",
              "11             casado     8.12"
            ],
            "text/html": [
              "\n",
              "  <div id=\"df-3b4c039a-a217-45cf-9321-b0de2a07c8ea\">\n",
              "    <div class=\"colab-df-container\">\n",
              "      <div>\n",
              "<style scoped>\n",
              "    .dataframe tbody tr th:only-of-type {\n",
              "        vertical-align: middle;\n",
              "    }\n",
              "\n",
              "    .dataframe tbody tr th {\n",
              "        vertical-align: top;\n",
              "    }\n",
              "\n",
              "    .dataframe thead th {\n",
              "        text-align: right;\n",
              "    }\n",
              "</style>\n",
              "<table border=\"1\" class=\"dataframe\">\n",
              "  <thead>\n",
              "    <tr style=\"text-align: right;\">\n",
              "      <th></th>\n",
              "      <th>Est.civil</th>\n",
              "      <th>Salario</th>\n",
              "    </tr>\n",
              "    <tr>\n",
              "      <th>Funcionario</th>\n",
              "      <th></th>\n",
              "      <th></th>\n",
              "    </tr>\n",
              "  </thead>\n",
              "  <tbody>\n",
              "    <tr>\n",
              "      <th>2</th>\n",
              "      <td>casado</td>\n",
              "      <td>4.56</td>\n",
              "    </tr>\n",
              "    <tr>\n",
              "      <th>3</th>\n",
              "      <td>casado</td>\n",
              "      <td>5.25</td>\n",
              "    </tr>\n",
              "    <tr>\n",
              "      <th>6</th>\n",
              "      <td>casado</td>\n",
              "      <td>6.66</td>\n",
              "    </tr>\n",
              "    <tr>\n",
              "      <th>9</th>\n",
              "      <td>casado</td>\n",
              "      <td>7.59</td>\n",
              "    </tr>\n",
              "    <tr>\n",
              "      <th>11</th>\n",
              "      <td>casado</td>\n",
              "      <td>8.12</td>\n",
              "    </tr>\n",
              "  </tbody>\n",
              "</table>\n",
              "</div>\n",
              "      <button class=\"colab-df-convert\" onclick=\"convertToInteractive('df-3b4c039a-a217-45cf-9321-b0de2a07c8ea')\"\n",
              "              title=\"Convert this dataframe to an interactive table.\"\n",
              "              style=\"display:none;\">\n",
              "        \n",
              "  <svg xmlns=\"http://www.w3.org/2000/svg\" height=\"24px\"viewBox=\"0 0 24 24\"\n",
              "       width=\"24px\">\n",
              "    <path d=\"M0 0h24v24H0V0z\" fill=\"none\"/>\n",
              "    <path d=\"M18.56 5.44l.94 2.06.94-2.06 2.06-.94-2.06-.94-.94-2.06-.94 2.06-2.06.94zm-11 1L8.5 8.5l.94-2.06 2.06-.94-2.06-.94L8.5 2.5l-.94 2.06-2.06.94zm10 10l.94 2.06.94-2.06 2.06-.94-2.06-.94-.94-2.06-.94 2.06-2.06.94z\"/><path d=\"M17.41 7.96l-1.37-1.37c-.4-.4-.92-.59-1.43-.59-.52 0-1.04.2-1.43.59L10.3 9.45l-7.72 7.72c-.78.78-.78 2.05 0 2.83L4 21.41c.39.39.9.59 1.41.59.51 0 1.02-.2 1.41-.59l7.78-7.78 2.81-2.81c.8-.78.8-2.07 0-2.86zM5.41 20L4 18.59l7.72-7.72 1.47 1.35L5.41 20z\"/>\n",
              "  </svg>\n",
              "      </button>\n",
              "      \n",
              "  <style>\n",
              "    .colab-df-container {\n",
              "      display:flex;\n",
              "      flex-wrap:wrap;\n",
              "      gap: 12px;\n",
              "    }\n",
              "\n",
              "    .colab-df-convert {\n",
              "      background-color: #E8F0FE;\n",
              "      border: none;\n",
              "      border-radius: 50%;\n",
              "      cursor: pointer;\n",
              "      display: none;\n",
              "      fill: #1967D2;\n",
              "      height: 32px;\n",
              "      padding: 0 0 0 0;\n",
              "      width: 32px;\n",
              "    }\n",
              "\n",
              "    .colab-df-convert:hover {\n",
              "      background-color: #E2EBFA;\n",
              "      box-shadow: 0px 1px 2px rgba(60, 64, 67, 0.3), 0px 1px 3px 1px rgba(60, 64, 67, 0.15);\n",
              "      fill: #174EA6;\n",
              "    }\n",
              "\n",
              "    [theme=dark] .colab-df-convert {\n",
              "      background-color: #3B4455;\n",
              "      fill: #D2E3FC;\n",
              "    }\n",
              "\n",
              "    [theme=dark] .colab-df-convert:hover {\n",
              "      background-color: #434B5C;\n",
              "      box-shadow: 0px 1px 3px 1px rgba(0, 0, 0, 0.15);\n",
              "      filter: drop-shadow(0px 1px 2px rgba(0, 0, 0, 0.3));\n",
              "      fill: #FFFFFF;\n",
              "    }\n",
              "  </style>\n",
              "\n",
              "      <script>\n",
              "        const buttonEl =\n",
              "          document.querySelector('#df-3b4c039a-a217-45cf-9321-b0de2a07c8ea button.colab-df-convert');\n",
              "        buttonEl.style.display =\n",
              "          google.colab.kernel.accessAllowed ? 'block' : 'none';\n",
              "\n",
              "        async function convertToInteractive(key) {\n",
              "          const element = document.querySelector('#df-3b4c039a-a217-45cf-9321-b0de2a07c8ea');\n",
              "          const dataTable =\n",
              "            await google.colab.kernel.invokeFunction('convertToInteractive',\n",
              "                                                     [key], {});\n",
              "          if (!dataTable) return;\n",
              "\n",
              "          const docLinkHtml = 'Like what you see? Visit the ' +\n",
              "            '<a target=\"_blank\" href=https://colab.research.google.com/notebooks/data_table.ipynb>data table notebook</a>'\n",
              "            + ' to learn more about interactive tables.';\n",
              "          element.innerHTML = '';\n",
              "          dataTable['output_type'] = 'display_data';\n",
              "          await google.colab.output.renderOutput(dataTable, element);\n",
              "          const docLink = document.createElement('div');\n",
              "          docLink.innerHTML = docLinkHtml;\n",
              "          element.appendChild(docLink);\n",
              "        }\n",
              "      </script>\n",
              "    </div>\n",
              "  </div>\n",
              "  "
            ]
          },
          "metadata": {},
          "execution_count": 43
        }
      ]
    },
    {
      "cell_type": "code",
      "source": [
        "casados_salario.tail()"
      ],
      "metadata": {
        "colab": {
          "base_uri": "https://localhost:8080/",
          "height": 238
        },
        "id": "UPH7krCCKWSN",
        "outputId": "22eebbe0-1940-49f2-bd24-58ebf47cebaf"
      },
      "execution_count": null,
      "outputs": [
        {
          "output_type": "execute_result",
          "data": {
            "text/plain": [
              "            Est.civil  Salario\n",
              "Funcionario                   \n",
              "30             casado    15.99\n",
              "32             casado    16.61\n",
              "33             casado    17.26\n",
              "35             casado    19.40\n",
              "36             casado    23.30"
            ],
            "text/html": [
              "\n",
              "  <div id=\"df-1e5bf04a-67b0-48f2-b08b-f52e9e2f5f5c\">\n",
              "    <div class=\"colab-df-container\">\n",
              "      <div>\n",
              "<style scoped>\n",
              "    .dataframe tbody tr th:only-of-type {\n",
              "        vertical-align: middle;\n",
              "    }\n",
              "\n",
              "    .dataframe tbody tr th {\n",
              "        vertical-align: top;\n",
              "    }\n",
              "\n",
              "    .dataframe thead th {\n",
              "        text-align: right;\n",
              "    }\n",
              "</style>\n",
              "<table border=\"1\" class=\"dataframe\">\n",
              "  <thead>\n",
              "    <tr style=\"text-align: right;\">\n",
              "      <th></th>\n",
              "      <th>Est.civil</th>\n",
              "      <th>Salario</th>\n",
              "    </tr>\n",
              "    <tr>\n",
              "      <th>Funcionario</th>\n",
              "      <th></th>\n",
              "      <th></th>\n",
              "    </tr>\n",
              "  </thead>\n",
              "  <tbody>\n",
              "    <tr>\n",
              "      <th>30</th>\n",
              "      <td>casado</td>\n",
              "      <td>15.99</td>\n",
              "    </tr>\n",
              "    <tr>\n",
              "      <th>32</th>\n",
              "      <td>casado</td>\n",
              "      <td>16.61</td>\n",
              "    </tr>\n",
              "    <tr>\n",
              "      <th>33</th>\n",
              "      <td>casado</td>\n",
              "      <td>17.26</td>\n",
              "    </tr>\n",
              "    <tr>\n",
              "      <th>35</th>\n",
              "      <td>casado</td>\n",
              "      <td>19.40</td>\n",
              "    </tr>\n",
              "    <tr>\n",
              "      <th>36</th>\n",
              "      <td>casado</td>\n",
              "      <td>23.30</td>\n",
              "    </tr>\n",
              "  </tbody>\n",
              "</table>\n",
              "</div>\n",
              "      <button class=\"colab-df-convert\" onclick=\"convertToInteractive('df-1e5bf04a-67b0-48f2-b08b-f52e9e2f5f5c')\"\n",
              "              title=\"Convert this dataframe to an interactive table.\"\n",
              "              style=\"display:none;\">\n",
              "        \n",
              "  <svg xmlns=\"http://www.w3.org/2000/svg\" height=\"24px\"viewBox=\"0 0 24 24\"\n",
              "       width=\"24px\">\n",
              "    <path d=\"M0 0h24v24H0V0z\" fill=\"none\"/>\n",
              "    <path d=\"M18.56 5.44l.94 2.06.94-2.06 2.06-.94-2.06-.94-.94-2.06-.94 2.06-2.06.94zm-11 1L8.5 8.5l.94-2.06 2.06-.94-2.06-.94L8.5 2.5l-.94 2.06-2.06.94zm10 10l.94 2.06.94-2.06 2.06-.94-2.06-.94-.94-2.06-.94 2.06-2.06.94z\"/><path d=\"M17.41 7.96l-1.37-1.37c-.4-.4-.92-.59-1.43-.59-.52 0-1.04.2-1.43.59L10.3 9.45l-7.72 7.72c-.78.78-.78 2.05 0 2.83L4 21.41c.39.39.9.59 1.41.59.51 0 1.02-.2 1.41-.59l7.78-7.78 2.81-2.81c.8-.78.8-2.07 0-2.86zM5.41 20L4 18.59l7.72-7.72 1.47 1.35L5.41 20z\"/>\n",
              "  </svg>\n",
              "      </button>\n",
              "      \n",
              "  <style>\n",
              "    .colab-df-container {\n",
              "      display:flex;\n",
              "      flex-wrap:wrap;\n",
              "      gap: 12px;\n",
              "    }\n",
              "\n",
              "    .colab-df-convert {\n",
              "      background-color: #E8F0FE;\n",
              "      border: none;\n",
              "      border-radius: 50%;\n",
              "      cursor: pointer;\n",
              "      display: none;\n",
              "      fill: #1967D2;\n",
              "      height: 32px;\n",
              "      padding: 0 0 0 0;\n",
              "      width: 32px;\n",
              "    }\n",
              "\n",
              "    .colab-df-convert:hover {\n",
              "      background-color: #E2EBFA;\n",
              "      box-shadow: 0px 1px 2px rgba(60, 64, 67, 0.3), 0px 1px 3px 1px rgba(60, 64, 67, 0.15);\n",
              "      fill: #174EA6;\n",
              "    }\n",
              "\n",
              "    [theme=dark] .colab-df-convert {\n",
              "      background-color: #3B4455;\n",
              "      fill: #D2E3FC;\n",
              "    }\n",
              "\n",
              "    [theme=dark] .colab-df-convert:hover {\n",
              "      background-color: #434B5C;\n",
              "      box-shadow: 0px 1px 3px 1px rgba(0, 0, 0, 0.15);\n",
              "      filter: drop-shadow(0px 1px 2px rgba(0, 0, 0, 0.3));\n",
              "      fill: #FFFFFF;\n",
              "    }\n",
              "  </style>\n",
              "\n",
              "      <script>\n",
              "        const buttonEl =\n",
              "          document.querySelector('#df-1e5bf04a-67b0-48f2-b08b-f52e9e2f5f5c button.colab-df-convert');\n",
              "        buttonEl.style.display =\n",
              "          google.colab.kernel.accessAllowed ? 'block' : 'none';\n",
              "\n",
              "        async function convertToInteractive(key) {\n",
              "          const element = document.querySelector('#df-1e5bf04a-67b0-48f2-b08b-f52e9e2f5f5c');\n",
              "          const dataTable =\n",
              "            await google.colab.kernel.invokeFunction('convertToInteractive',\n",
              "                                                     [key], {});\n",
              "          if (!dataTable) return;\n",
              "\n",
              "          const docLinkHtml = 'Like what you see? Visit the ' +\n",
              "            '<a target=\"_blank\" href=https://colab.research.google.com/notebooks/data_table.ipynb>data table notebook</a>'\n",
              "            + ' to learn more about interactive tables.';\n",
              "          element.innerHTML = '';\n",
              "          dataTable['output_type'] = 'display_data';\n",
              "          await google.colab.output.renderOutput(dataTable, element);\n",
              "          const docLink = document.createElement('div');\n",
              "          docLink.innerHTML = docLinkHtml;\n",
              "          element.appendChild(docLink);\n",
              "        }\n",
              "      </script>\n",
              "    </div>\n",
              "  </div>\n",
              "  "
            ]
          },
          "metadata": {},
          "execution_count": 44
        }
      ]
    },
    {
      "cell_type": "markdown",
      "source": [
        "- Com isso feito, basta aplicarmos o método <font color='09D1FF'>**_mean()_**</font> nesse recorte do DataFrame para termos a média salarial dos funcionários casados."
      ],
      "metadata": {
        "id": "diNjtGkqnUjz"
      }
    },
    {
      "cell_type": "code",
      "source": [
        "media_salarial_casados = casados_salario['Salario'].mean()\n",
        "\n",
        "print(f'Média salarial dos funcionários casados: {cor_verde}{formatar(media_salarial_casados)}{cor_fim}')"
      ],
      "metadata": {
        "colab": {
          "base_uri": "https://localhost:8080/"
        },
        "id": "LmKl3paemm_Z",
        "outputId": "82256f6b-2ff3-432b-be46-7532cd3c5240"
      },
      "execution_count": null,
      "outputs": [
        {
          "output_type": "stream",
          "name": "stdout",
          "text": [
            "Média salarial dos funcionários casados: \u001b[1;32m12.12\u001b[m\n"
          ]
        }
      ]
    },
    {
      "cell_type": "markdown",
      "source": [
        "- Já para termos a média de idade dos funcionários casados, realizamos uma filtragem no DataFrame utilizando o método <font color='09D1FF'>**_loc[ ]_**</font> para trazermos as colunas **_Est.civil_** e **_Anos_**."
      ],
      "metadata": {
        "id": "nbIIV8bPn7zh"
      }
    },
    {
      "cell_type": "code",
      "source": [
        "casados_idade = df.loc[(df['Est.civil'] == 'casado'.lower()), ['Est.civil', 'Anos']]\n",
        "\n",
        "casados_idade.head()"
      ],
      "metadata": {
        "colab": {
          "base_uri": "https://localhost:8080/",
          "height": 238
        },
        "id": "EijaEV-Cn0jB",
        "outputId": "4192e4f6-020f-4f2f-cda7-2978d6be1a64"
      },
      "execution_count": null,
      "outputs": [
        {
          "output_type": "execute_result",
          "data": {
            "text/plain": [
              "            Est.civil  Anos\n",
              "Funcionario                \n",
              "2              casado    32\n",
              "3              casado    36\n",
              "6              casado    28\n",
              "9              casado    34\n",
              "11             casado    33"
            ],
            "text/html": [
              "\n",
              "  <div id=\"df-184c4eba-7d0f-4506-877e-2d81ddd2728a\">\n",
              "    <div class=\"colab-df-container\">\n",
              "      <div>\n",
              "<style scoped>\n",
              "    .dataframe tbody tr th:only-of-type {\n",
              "        vertical-align: middle;\n",
              "    }\n",
              "\n",
              "    .dataframe tbody tr th {\n",
              "        vertical-align: top;\n",
              "    }\n",
              "\n",
              "    .dataframe thead th {\n",
              "        text-align: right;\n",
              "    }\n",
              "</style>\n",
              "<table border=\"1\" class=\"dataframe\">\n",
              "  <thead>\n",
              "    <tr style=\"text-align: right;\">\n",
              "      <th></th>\n",
              "      <th>Est.civil</th>\n",
              "      <th>Anos</th>\n",
              "    </tr>\n",
              "    <tr>\n",
              "      <th>Funcionario</th>\n",
              "      <th></th>\n",
              "      <th></th>\n",
              "    </tr>\n",
              "  </thead>\n",
              "  <tbody>\n",
              "    <tr>\n",
              "      <th>2</th>\n",
              "      <td>casado</td>\n",
              "      <td>32</td>\n",
              "    </tr>\n",
              "    <tr>\n",
              "      <th>3</th>\n",
              "      <td>casado</td>\n",
              "      <td>36</td>\n",
              "    </tr>\n",
              "    <tr>\n",
              "      <th>6</th>\n",
              "      <td>casado</td>\n",
              "      <td>28</td>\n",
              "    </tr>\n",
              "    <tr>\n",
              "      <th>9</th>\n",
              "      <td>casado</td>\n",
              "      <td>34</td>\n",
              "    </tr>\n",
              "    <tr>\n",
              "      <th>11</th>\n",
              "      <td>casado</td>\n",
              "      <td>33</td>\n",
              "    </tr>\n",
              "  </tbody>\n",
              "</table>\n",
              "</div>\n",
              "      <button class=\"colab-df-convert\" onclick=\"convertToInteractive('df-184c4eba-7d0f-4506-877e-2d81ddd2728a')\"\n",
              "              title=\"Convert this dataframe to an interactive table.\"\n",
              "              style=\"display:none;\">\n",
              "        \n",
              "  <svg xmlns=\"http://www.w3.org/2000/svg\" height=\"24px\"viewBox=\"0 0 24 24\"\n",
              "       width=\"24px\">\n",
              "    <path d=\"M0 0h24v24H0V0z\" fill=\"none\"/>\n",
              "    <path d=\"M18.56 5.44l.94 2.06.94-2.06 2.06-.94-2.06-.94-.94-2.06-.94 2.06-2.06.94zm-11 1L8.5 8.5l.94-2.06 2.06-.94-2.06-.94L8.5 2.5l-.94 2.06-2.06.94zm10 10l.94 2.06.94-2.06 2.06-.94-2.06-.94-.94-2.06-.94 2.06-2.06.94z\"/><path d=\"M17.41 7.96l-1.37-1.37c-.4-.4-.92-.59-1.43-.59-.52 0-1.04.2-1.43.59L10.3 9.45l-7.72 7.72c-.78.78-.78 2.05 0 2.83L4 21.41c.39.39.9.59 1.41.59.51 0 1.02-.2 1.41-.59l7.78-7.78 2.81-2.81c.8-.78.8-2.07 0-2.86zM5.41 20L4 18.59l7.72-7.72 1.47 1.35L5.41 20z\"/>\n",
              "  </svg>\n",
              "      </button>\n",
              "      \n",
              "  <style>\n",
              "    .colab-df-container {\n",
              "      display:flex;\n",
              "      flex-wrap:wrap;\n",
              "      gap: 12px;\n",
              "    }\n",
              "\n",
              "    .colab-df-convert {\n",
              "      background-color: #E8F0FE;\n",
              "      border: none;\n",
              "      border-radius: 50%;\n",
              "      cursor: pointer;\n",
              "      display: none;\n",
              "      fill: #1967D2;\n",
              "      height: 32px;\n",
              "      padding: 0 0 0 0;\n",
              "      width: 32px;\n",
              "    }\n",
              "\n",
              "    .colab-df-convert:hover {\n",
              "      background-color: #E2EBFA;\n",
              "      box-shadow: 0px 1px 2px rgba(60, 64, 67, 0.3), 0px 1px 3px 1px rgba(60, 64, 67, 0.15);\n",
              "      fill: #174EA6;\n",
              "    }\n",
              "\n",
              "    [theme=dark] .colab-df-convert {\n",
              "      background-color: #3B4455;\n",
              "      fill: #D2E3FC;\n",
              "    }\n",
              "\n",
              "    [theme=dark] .colab-df-convert:hover {\n",
              "      background-color: #434B5C;\n",
              "      box-shadow: 0px 1px 3px 1px rgba(0, 0, 0, 0.15);\n",
              "      filter: drop-shadow(0px 1px 2px rgba(0, 0, 0, 0.3));\n",
              "      fill: #FFFFFF;\n",
              "    }\n",
              "  </style>\n",
              "\n",
              "      <script>\n",
              "        const buttonEl =\n",
              "          document.querySelector('#df-184c4eba-7d0f-4506-877e-2d81ddd2728a button.colab-df-convert');\n",
              "        buttonEl.style.display =\n",
              "          google.colab.kernel.accessAllowed ? 'block' : 'none';\n",
              "\n",
              "        async function convertToInteractive(key) {\n",
              "          const element = document.querySelector('#df-184c4eba-7d0f-4506-877e-2d81ddd2728a');\n",
              "          const dataTable =\n",
              "            await google.colab.kernel.invokeFunction('convertToInteractive',\n",
              "                                                     [key], {});\n",
              "          if (!dataTable) return;\n",
              "\n",
              "          const docLinkHtml = 'Like what you see? Visit the ' +\n",
              "            '<a target=\"_blank\" href=https://colab.research.google.com/notebooks/data_table.ipynb>data table notebook</a>'\n",
              "            + ' to learn more about interactive tables.';\n",
              "          element.innerHTML = '';\n",
              "          dataTable['output_type'] = 'display_data';\n",
              "          await google.colab.output.renderOutput(dataTable, element);\n",
              "          const docLink = document.createElement('div');\n",
              "          docLink.innerHTML = docLinkHtml;\n",
              "          element.appendChild(docLink);\n",
              "        }\n",
              "      </script>\n",
              "    </div>\n",
              "  </div>\n",
              "  "
            ]
          },
          "metadata": {},
          "execution_count": 46
        }
      ]
    },
    {
      "cell_type": "code",
      "source": [
        "casados_idade.tail()"
      ],
      "metadata": {
        "colab": {
          "base_uri": "https://localhost:8080/",
          "height": 238
        },
        "id": "dNVk__XfKb8x",
        "outputId": "1bed6df1-2b59-4f1f-b36a-61bb742ee91d"
      },
      "execution_count": null,
      "outputs": [
        {
          "output_type": "execute_result",
          "data": {
            "text/plain": [
              "            Est.civil  Anos\n",
              "Funcionario                \n",
              "30             casado    35\n",
              "32             casado    36\n",
              "33             casado    43\n",
              "35             casado    48\n",
              "36             casado    42"
            ],
            "text/html": [
              "\n",
              "  <div id=\"df-6335b793-ca4f-4a45-a696-bd9851b87670\">\n",
              "    <div class=\"colab-df-container\">\n",
              "      <div>\n",
              "<style scoped>\n",
              "    .dataframe tbody tr th:only-of-type {\n",
              "        vertical-align: middle;\n",
              "    }\n",
              "\n",
              "    .dataframe tbody tr th {\n",
              "        vertical-align: top;\n",
              "    }\n",
              "\n",
              "    .dataframe thead th {\n",
              "        text-align: right;\n",
              "    }\n",
              "</style>\n",
              "<table border=\"1\" class=\"dataframe\">\n",
              "  <thead>\n",
              "    <tr style=\"text-align: right;\">\n",
              "      <th></th>\n",
              "      <th>Est.civil</th>\n",
              "      <th>Anos</th>\n",
              "    </tr>\n",
              "    <tr>\n",
              "      <th>Funcionario</th>\n",
              "      <th></th>\n",
              "      <th></th>\n",
              "    </tr>\n",
              "  </thead>\n",
              "  <tbody>\n",
              "    <tr>\n",
              "      <th>30</th>\n",
              "      <td>casado</td>\n",
              "      <td>35</td>\n",
              "    </tr>\n",
              "    <tr>\n",
              "      <th>32</th>\n",
              "      <td>casado</td>\n",
              "      <td>36</td>\n",
              "    </tr>\n",
              "    <tr>\n",
              "      <th>33</th>\n",
              "      <td>casado</td>\n",
              "      <td>43</td>\n",
              "    </tr>\n",
              "    <tr>\n",
              "      <th>35</th>\n",
              "      <td>casado</td>\n",
              "      <td>48</td>\n",
              "    </tr>\n",
              "    <tr>\n",
              "      <th>36</th>\n",
              "      <td>casado</td>\n",
              "      <td>42</td>\n",
              "    </tr>\n",
              "  </tbody>\n",
              "</table>\n",
              "</div>\n",
              "      <button class=\"colab-df-convert\" onclick=\"convertToInteractive('df-6335b793-ca4f-4a45-a696-bd9851b87670')\"\n",
              "              title=\"Convert this dataframe to an interactive table.\"\n",
              "              style=\"display:none;\">\n",
              "        \n",
              "  <svg xmlns=\"http://www.w3.org/2000/svg\" height=\"24px\"viewBox=\"0 0 24 24\"\n",
              "       width=\"24px\">\n",
              "    <path d=\"M0 0h24v24H0V0z\" fill=\"none\"/>\n",
              "    <path d=\"M18.56 5.44l.94 2.06.94-2.06 2.06-.94-2.06-.94-.94-2.06-.94 2.06-2.06.94zm-11 1L8.5 8.5l.94-2.06 2.06-.94-2.06-.94L8.5 2.5l-.94 2.06-2.06.94zm10 10l.94 2.06.94-2.06 2.06-.94-2.06-.94-.94-2.06-.94 2.06-2.06.94z\"/><path d=\"M17.41 7.96l-1.37-1.37c-.4-.4-.92-.59-1.43-.59-.52 0-1.04.2-1.43.59L10.3 9.45l-7.72 7.72c-.78.78-.78 2.05 0 2.83L4 21.41c.39.39.9.59 1.41.59.51 0 1.02-.2 1.41-.59l7.78-7.78 2.81-2.81c.8-.78.8-2.07 0-2.86zM5.41 20L4 18.59l7.72-7.72 1.47 1.35L5.41 20z\"/>\n",
              "  </svg>\n",
              "      </button>\n",
              "      \n",
              "  <style>\n",
              "    .colab-df-container {\n",
              "      display:flex;\n",
              "      flex-wrap:wrap;\n",
              "      gap: 12px;\n",
              "    }\n",
              "\n",
              "    .colab-df-convert {\n",
              "      background-color: #E8F0FE;\n",
              "      border: none;\n",
              "      border-radius: 50%;\n",
              "      cursor: pointer;\n",
              "      display: none;\n",
              "      fill: #1967D2;\n",
              "      height: 32px;\n",
              "      padding: 0 0 0 0;\n",
              "      width: 32px;\n",
              "    }\n",
              "\n",
              "    .colab-df-convert:hover {\n",
              "      background-color: #E2EBFA;\n",
              "      box-shadow: 0px 1px 2px rgba(60, 64, 67, 0.3), 0px 1px 3px 1px rgba(60, 64, 67, 0.15);\n",
              "      fill: #174EA6;\n",
              "    }\n",
              "\n",
              "    [theme=dark] .colab-df-convert {\n",
              "      background-color: #3B4455;\n",
              "      fill: #D2E3FC;\n",
              "    }\n",
              "\n",
              "    [theme=dark] .colab-df-convert:hover {\n",
              "      background-color: #434B5C;\n",
              "      box-shadow: 0px 1px 3px 1px rgba(0, 0, 0, 0.15);\n",
              "      filter: drop-shadow(0px 1px 2px rgba(0, 0, 0, 0.3));\n",
              "      fill: #FFFFFF;\n",
              "    }\n",
              "  </style>\n",
              "\n",
              "      <script>\n",
              "        const buttonEl =\n",
              "          document.querySelector('#df-6335b793-ca4f-4a45-a696-bd9851b87670 button.colab-df-convert');\n",
              "        buttonEl.style.display =\n",
              "          google.colab.kernel.accessAllowed ? 'block' : 'none';\n",
              "\n",
              "        async function convertToInteractive(key) {\n",
              "          const element = document.querySelector('#df-6335b793-ca4f-4a45-a696-bd9851b87670');\n",
              "          const dataTable =\n",
              "            await google.colab.kernel.invokeFunction('convertToInteractive',\n",
              "                                                     [key], {});\n",
              "          if (!dataTable) return;\n",
              "\n",
              "          const docLinkHtml = 'Like what you see? Visit the ' +\n",
              "            '<a target=\"_blank\" href=https://colab.research.google.com/notebooks/data_table.ipynb>data table notebook</a>'\n",
              "            + ' to learn more about interactive tables.';\n",
              "          element.innerHTML = '';\n",
              "          dataTable['output_type'] = 'display_data';\n",
              "          await google.colab.output.renderOutput(dataTable, element);\n",
              "          const docLink = document.createElement('div');\n",
              "          docLink.innerHTML = docLinkHtml;\n",
              "          element.appendChild(docLink);\n",
              "        }\n",
              "      </script>\n",
              "    </div>\n",
              "  </div>\n",
              "  "
            ]
          },
          "metadata": {},
          "execution_count": 47
        }
      ]
    },
    {
      "cell_type": "markdown",
      "source": [
        "- Com isso feito, basta aplicarmos o método <font color='09D1FF'>**_mean()_**</font> nesse recorte do DataFrame para termos a média de idade dos funcionários casados."
      ],
      "metadata": {
        "id": "5YxkyL7_oXzb"
      }
    },
    {
      "cell_type": "code",
      "source": [
        "media_idade_casados = casados_idade['Anos'].mean()\n",
        "\n",
        "print(f'Média de idade dos funcionários casados: {cor_verde}{formatar(media_idade_casados)}{cor_fim}')"
      ],
      "metadata": {
        "colab": {
          "base_uri": "https://localhost:8080/"
        },
        "id": "4rGYLdUvoMPv",
        "outputId": "80cdd522-4c80-4f53-e8cd-39c938706810"
      },
      "execution_count": null,
      "outputs": [
        {
          "output_type": "stream",
          "name": "stdout",
          "text": [
            "Média de idade dos funcionários casados: \u001b[1;32m35.15\u001b[m\n"
          ]
        }
      ]
    },
    {
      "cell_type": "markdown",
      "source": [
        "### <font color='gold'>**_g._**</font> **_Qual o funcionário que possui maior salário (informe seus atributos)?_**"
      ],
      "metadata": {
        "id": "Efb82OG5oaQM"
      }
    },
    {
      "cell_type": "markdown",
      "source": [
        "- Para encontrarmos o funcionário com o maior salário, e para termos todos seus atributos informados, basta filtrar nosso DataFrame utilizando o método <font color='09D1FF'>**_idxmax()_**</font>."
      ],
      "metadata": {
        "id": "0CkDfQCKorzt"
      }
    },
    {
      "cell_type": "code",
      "source": [
        "maior_salario = df.loc[[df['Salario'].idxmax()]]\n",
        "\n",
        "maior_salario"
      ],
      "metadata": {
        "colab": {
          "base_uri": "https://localhost:8080/",
          "height": 112
        },
        "id": "mE8RwfzmoeKt",
        "outputId": "22f5d5de-5d06-4866-b19e-b616b6840854"
      },
      "execution_count": null,
      "outputs": [
        {
          "output_type": "execute_result",
          "data": {
            "text/plain": [
              "            Est.civil      Inst  Filhos  Salario  Anos  Meses    Regiao\n",
              "Funcionario                                                            \n",
              "36             casado  Superior     3.0     23.3    42      2  interior"
            ],
            "text/html": [
              "\n",
              "  <div id=\"df-510b327d-cf55-4185-8860-975a776504c2\">\n",
              "    <div class=\"colab-df-container\">\n",
              "      <div>\n",
              "<style scoped>\n",
              "    .dataframe tbody tr th:only-of-type {\n",
              "        vertical-align: middle;\n",
              "    }\n",
              "\n",
              "    .dataframe tbody tr th {\n",
              "        vertical-align: top;\n",
              "    }\n",
              "\n",
              "    .dataframe thead th {\n",
              "        text-align: right;\n",
              "    }\n",
              "</style>\n",
              "<table border=\"1\" class=\"dataframe\">\n",
              "  <thead>\n",
              "    <tr style=\"text-align: right;\">\n",
              "      <th></th>\n",
              "      <th>Est.civil</th>\n",
              "      <th>Inst</th>\n",
              "      <th>Filhos</th>\n",
              "      <th>Salario</th>\n",
              "      <th>Anos</th>\n",
              "      <th>Meses</th>\n",
              "      <th>Regiao</th>\n",
              "    </tr>\n",
              "    <tr>\n",
              "      <th>Funcionario</th>\n",
              "      <th></th>\n",
              "      <th></th>\n",
              "      <th></th>\n",
              "      <th></th>\n",
              "      <th></th>\n",
              "      <th></th>\n",
              "      <th></th>\n",
              "    </tr>\n",
              "  </thead>\n",
              "  <tbody>\n",
              "    <tr>\n",
              "      <th>36</th>\n",
              "      <td>casado</td>\n",
              "      <td>Superior</td>\n",
              "      <td>3.0</td>\n",
              "      <td>23.3</td>\n",
              "      <td>42</td>\n",
              "      <td>2</td>\n",
              "      <td>interior</td>\n",
              "    </tr>\n",
              "  </tbody>\n",
              "</table>\n",
              "</div>\n",
              "      <button class=\"colab-df-convert\" onclick=\"convertToInteractive('df-510b327d-cf55-4185-8860-975a776504c2')\"\n",
              "              title=\"Convert this dataframe to an interactive table.\"\n",
              "              style=\"display:none;\">\n",
              "        \n",
              "  <svg xmlns=\"http://www.w3.org/2000/svg\" height=\"24px\"viewBox=\"0 0 24 24\"\n",
              "       width=\"24px\">\n",
              "    <path d=\"M0 0h24v24H0V0z\" fill=\"none\"/>\n",
              "    <path d=\"M18.56 5.44l.94 2.06.94-2.06 2.06-.94-2.06-.94-.94-2.06-.94 2.06-2.06.94zm-11 1L8.5 8.5l.94-2.06 2.06-.94-2.06-.94L8.5 2.5l-.94 2.06-2.06.94zm10 10l.94 2.06.94-2.06 2.06-.94-2.06-.94-.94-2.06-.94 2.06-2.06.94z\"/><path d=\"M17.41 7.96l-1.37-1.37c-.4-.4-.92-.59-1.43-.59-.52 0-1.04.2-1.43.59L10.3 9.45l-7.72 7.72c-.78.78-.78 2.05 0 2.83L4 21.41c.39.39.9.59 1.41.59.51 0 1.02-.2 1.41-.59l7.78-7.78 2.81-2.81c.8-.78.8-2.07 0-2.86zM5.41 20L4 18.59l7.72-7.72 1.47 1.35L5.41 20z\"/>\n",
              "  </svg>\n",
              "      </button>\n",
              "      \n",
              "  <style>\n",
              "    .colab-df-container {\n",
              "      display:flex;\n",
              "      flex-wrap:wrap;\n",
              "      gap: 12px;\n",
              "    }\n",
              "\n",
              "    .colab-df-convert {\n",
              "      background-color: #E8F0FE;\n",
              "      border: none;\n",
              "      border-radius: 50%;\n",
              "      cursor: pointer;\n",
              "      display: none;\n",
              "      fill: #1967D2;\n",
              "      height: 32px;\n",
              "      padding: 0 0 0 0;\n",
              "      width: 32px;\n",
              "    }\n",
              "\n",
              "    .colab-df-convert:hover {\n",
              "      background-color: #E2EBFA;\n",
              "      box-shadow: 0px 1px 2px rgba(60, 64, 67, 0.3), 0px 1px 3px 1px rgba(60, 64, 67, 0.15);\n",
              "      fill: #174EA6;\n",
              "    }\n",
              "\n",
              "    [theme=dark] .colab-df-convert {\n",
              "      background-color: #3B4455;\n",
              "      fill: #D2E3FC;\n",
              "    }\n",
              "\n",
              "    [theme=dark] .colab-df-convert:hover {\n",
              "      background-color: #434B5C;\n",
              "      box-shadow: 0px 1px 3px 1px rgba(0, 0, 0, 0.15);\n",
              "      filter: drop-shadow(0px 1px 2px rgba(0, 0, 0, 0.3));\n",
              "      fill: #FFFFFF;\n",
              "    }\n",
              "  </style>\n",
              "\n",
              "      <script>\n",
              "        const buttonEl =\n",
              "          document.querySelector('#df-510b327d-cf55-4185-8860-975a776504c2 button.colab-df-convert');\n",
              "        buttonEl.style.display =\n",
              "          google.colab.kernel.accessAllowed ? 'block' : 'none';\n",
              "\n",
              "        async function convertToInteractive(key) {\n",
              "          const element = document.querySelector('#df-510b327d-cf55-4185-8860-975a776504c2');\n",
              "          const dataTable =\n",
              "            await google.colab.kernel.invokeFunction('convertToInteractive',\n",
              "                                                     [key], {});\n",
              "          if (!dataTable) return;\n",
              "\n",
              "          const docLinkHtml = 'Like what you see? Visit the ' +\n",
              "            '<a target=\"_blank\" href=https://colab.research.google.com/notebooks/data_table.ipynb>data table notebook</a>'\n",
              "            + ' to learn more about interactive tables.';\n",
              "          element.innerHTML = '';\n",
              "          dataTable['output_type'] = 'display_data';\n",
              "          await google.colab.output.renderOutput(dataTable, element);\n",
              "          const docLink = document.createElement('div');\n",
              "          docLink.innerHTML = docLinkHtml;\n",
              "          element.appendChild(docLink);\n",
              "        }\n",
              "      </script>\n",
              "    </div>\n",
              "  </div>\n",
              "  "
            ]
          },
          "metadata": {},
          "execution_count": 49
        }
      ]
    },
    {
      "cell_type": "markdown",
      "source": [
        "### <font color='gold'>**_h._**</font> **_Qual o funcionário que possui menor idade (informe seus atributos)?_**"
      ],
      "metadata": {
        "id": "6fbgGK0IpR7B"
      }
    },
    {
      "cell_type": "markdown",
      "source": [
        "- Da mesma maneira em que utilizamos **_idxmax()_** para filtrarmos nosso DaatFrame e encintrarmos o funcionário com maior salário, para encontrar o funcionário com a menor idade, basta utilizarmos o método <font color='09D1FF'>**_idxmin()_**</font>."
      ],
      "metadata": {
        "id": "EN2m_-bVsRuE"
      }
    },
    {
      "cell_type": "code",
      "source": [
        "menor_idade = df.loc[[df['Anos'].idxmin()]]\n",
        "\n",
        "menor_idade"
      ],
      "metadata": {
        "colab": {
          "base_uri": "https://localhost:8080/",
          "height": 112
        },
        "id": "3tTt5fk-pWSn",
        "outputId": "c22a3132-c9d5-40d1-ebb6-e1d9d28e092e"
      },
      "execution_count": null,
      "outputs": [
        {
          "output_type": "execute_result",
          "data": {
            "text/plain": [
              "            Est.civil     Inst  Filhos  Salario  Anos  Meses Regiao\n",
              "Funcionario                                                        \n",
              "4            solteiro  2o Grau     NaN     5.73    20     10  outro"
            ],
            "text/html": [
              "\n",
              "  <div id=\"df-c5eb7baf-b3fa-4bba-b910-64a2e8c982f1\">\n",
              "    <div class=\"colab-df-container\">\n",
              "      <div>\n",
              "<style scoped>\n",
              "    .dataframe tbody tr th:only-of-type {\n",
              "        vertical-align: middle;\n",
              "    }\n",
              "\n",
              "    .dataframe tbody tr th {\n",
              "        vertical-align: top;\n",
              "    }\n",
              "\n",
              "    .dataframe thead th {\n",
              "        text-align: right;\n",
              "    }\n",
              "</style>\n",
              "<table border=\"1\" class=\"dataframe\">\n",
              "  <thead>\n",
              "    <tr style=\"text-align: right;\">\n",
              "      <th></th>\n",
              "      <th>Est.civil</th>\n",
              "      <th>Inst</th>\n",
              "      <th>Filhos</th>\n",
              "      <th>Salario</th>\n",
              "      <th>Anos</th>\n",
              "      <th>Meses</th>\n",
              "      <th>Regiao</th>\n",
              "    </tr>\n",
              "    <tr>\n",
              "      <th>Funcionario</th>\n",
              "      <th></th>\n",
              "      <th></th>\n",
              "      <th></th>\n",
              "      <th></th>\n",
              "      <th></th>\n",
              "      <th></th>\n",
              "      <th></th>\n",
              "    </tr>\n",
              "  </thead>\n",
              "  <tbody>\n",
              "    <tr>\n",
              "      <th>4</th>\n",
              "      <td>solteiro</td>\n",
              "      <td>2o Grau</td>\n",
              "      <td>NaN</td>\n",
              "      <td>5.73</td>\n",
              "      <td>20</td>\n",
              "      <td>10</td>\n",
              "      <td>outro</td>\n",
              "    </tr>\n",
              "  </tbody>\n",
              "</table>\n",
              "</div>\n",
              "      <button class=\"colab-df-convert\" onclick=\"convertToInteractive('df-c5eb7baf-b3fa-4bba-b910-64a2e8c982f1')\"\n",
              "              title=\"Convert this dataframe to an interactive table.\"\n",
              "              style=\"display:none;\">\n",
              "        \n",
              "  <svg xmlns=\"http://www.w3.org/2000/svg\" height=\"24px\"viewBox=\"0 0 24 24\"\n",
              "       width=\"24px\">\n",
              "    <path d=\"M0 0h24v24H0V0z\" fill=\"none\"/>\n",
              "    <path d=\"M18.56 5.44l.94 2.06.94-2.06 2.06-.94-2.06-.94-.94-2.06-.94 2.06-2.06.94zm-11 1L8.5 8.5l.94-2.06 2.06-.94-2.06-.94L8.5 2.5l-.94 2.06-2.06.94zm10 10l.94 2.06.94-2.06 2.06-.94-2.06-.94-.94-2.06-.94 2.06-2.06.94z\"/><path d=\"M17.41 7.96l-1.37-1.37c-.4-.4-.92-.59-1.43-.59-.52 0-1.04.2-1.43.59L10.3 9.45l-7.72 7.72c-.78.78-.78 2.05 0 2.83L4 21.41c.39.39.9.59 1.41.59.51 0 1.02-.2 1.41-.59l7.78-7.78 2.81-2.81c.8-.78.8-2.07 0-2.86zM5.41 20L4 18.59l7.72-7.72 1.47 1.35L5.41 20z\"/>\n",
              "  </svg>\n",
              "      </button>\n",
              "      \n",
              "  <style>\n",
              "    .colab-df-container {\n",
              "      display:flex;\n",
              "      flex-wrap:wrap;\n",
              "      gap: 12px;\n",
              "    }\n",
              "\n",
              "    .colab-df-convert {\n",
              "      background-color: #E8F0FE;\n",
              "      border: none;\n",
              "      border-radius: 50%;\n",
              "      cursor: pointer;\n",
              "      display: none;\n",
              "      fill: #1967D2;\n",
              "      height: 32px;\n",
              "      padding: 0 0 0 0;\n",
              "      width: 32px;\n",
              "    }\n",
              "\n",
              "    .colab-df-convert:hover {\n",
              "      background-color: #E2EBFA;\n",
              "      box-shadow: 0px 1px 2px rgba(60, 64, 67, 0.3), 0px 1px 3px 1px rgba(60, 64, 67, 0.15);\n",
              "      fill: #174EA6;\n",
              "    }\n",
              "\n",
              "    [theme=dark] .colab-df-convert {\n",
              "      background-color: #3B4455;\n",
              "      fill: #D2E3FC;\n",
              "    }\n",
              "\n",
              "    [theme=dark] .colab-df-convert:hover {\n",
              "      background-color: #434B5C;\n",
              "      box-shadow: 0px 1px 3px 1px rgba(0, 0, 0, 0.15);\n",
              "      filter: drop-shadow(0px 1px 2px rgba(0, 0, 0, 0.3));\n",
              "      fill: #FFFFFF;\n",
              "    }\n",
              "  </style>\n",
              "\n",
              "      <script>\n",
              "        const buttonEl =\n",
              "          document.querySelector('#df-c5eb7baf-b3fa-4bba-b910-64a2e8c982f1 button.colab-df-convert');\n",
              "        buttonEl.style.display =\n",
              "          google.colab.kernel.accessAllowed ? 'block' : 'none';\n",
              "\n",
              "        async function convertToInteractive(key) {\n",
              "          const element = document.querySelector('#df-c5eb7baf-b3fa-4bba-b910-64a2e8c982f1');\n",
              "          const dataTable =\n",
              "            await google.colab.kernel.invokeFunction('convertToInteractive',\n",
              "                                                     [key], {});\n",
              "          if (!dataTable) return;\n",
              "\n",
              "          const docLinkHtml = 'Like what you see? Visit the ' +\n",
              "            '<a target=\"_blank\" href=https://colab.research.google.com/notebooks/data_table.ipynb>data table notebook</a>'\n",
              "            + ' to learn more about interactive tables.';\n",
              "          element.innerHTML = '';\n",
              "          dataTable['output_type'] = 'display_data';\n",
              "          await google.colab.output.renderOutput(dataTable, element);\n",
              "          const docLink = document.createElement('div');\n",
              "          docLink.innerHTML = docLinkHtml;\n",
              "          element.appendChild(docLink);\n",
              "        }\n",
              "      </script>\n",
              "    </div>\n",
              "  </div>\n",
              "  "
            ]
          },
          "metadata": {},
          "execution_count": 50
        }
      ]
    },
    {
      "cell_type": "markdown",
      "source": [
        "### <font color='gold'>**_i._**</font> **_Quem são os funcionários que possuem no máximo 35 anos, são da capital e tem instrução de 2o grau?_**"
      ],
      "metadata": {
        "id": "u7enFVdhpeQn"
      }
    },
    {
      "cell_type": "markdown",
      "source": [
        "- Para realizarmos essa análise, utilizaremos ométodo **_loc[ ]_** passando as três condições de filtragem no nosso DataFrame e selecionando todas as linhas que se encaixam nessas condições."
      ],
      "metadata": {
        "id": "hD_HrSd5su0p"
      }
    },
    {
      "cell_type": "code",
      "source": [
        "filtragem = df.loc[(df['Anos'] <= 35) & (df['Regiao'] == 'capital'.lower()) & (df['Inst'].str.contains('2o')), :]\n",
        "#                       FILTRO 1                       FILTRO 2                             FILTRO 3\n",
        "filtragem"
      ],
      "metadata": {
        "colab": {
          "base_uri": "https://localhost:8080/",
          "height": 206
        },
        "id": "2p1Pq-g0phQA",
        "outputId": "59254e55-85fd-4634-bf61-17bf6f31774a"
      },
      "execution_count": null,
      "outputs": [
        {
          "output_type": "execute_result",
          "data": {
            "text/plain": [
              "            Est.civil     Inst  Filhos  Salario  Anos  Meses   Regiao\n",
              "Funcionario                                                          \n",
              "9              casado  2o Grau     1.0     7.59    34     10  capital\n",
              "17             casado  2o Grau     1.0     9.77    31      7  capital\n",
              "22           solteiro  2o Grau     NaN    11.59    34      2  capital\n",
              "30             casado  2o Grau     2.0    15.99    35     10  capital"
            ],
            "text/html": [
              "\n",
              "  <div id=\"df-b0cf55d5-dd11-4a6e-a9b1-bceb059b4b27\">\n",
              "    <div class=\"colab-df-container\">\n",
              "      <div>\n",
              "<style scoped>\n",
              "    .dataframe tbody tr th:only-of-type {\n",
              "        vertical-align: middle;\n",
              "    }\n",
              "\n",
              "    .dataframe tbody tr th {\n",
              "        vertical-align: top;\n",
              "    }\n",
              "\n",
              "    .dataframe thead th {\n",
              "        text-align: right;\n",
              "    }\n",
              "</style>\n",
              "<table border=\"1\" class=\"dataframe\">\n",
              "  <thead>\n",
              "    <tr style=\"text-align: right;\">\n",
              "      <th></th>\n",
              "      <th>Est.civil</th>\n",
              "      <th>Inst</th>\n",
              "      <th>Filhos</th>\n",
              "      <th>Salario</th>\n",
              "      <th>Anos</th>\n",
              "      <th>Meses</th>\n",
              "      <th>Regiao</th>\n",
              "    </tr>\n",
              "    <tr>\n",
              "      <th>Funcionario</th>\n",
              "      <th></th>\n",
              "      <th></th>\n",
              "      <th></th>\n",
              "      <th></th>\n",
              "      <th></th>\n",
              "      <th></th>\n",
              "      <th></th>\n",
              "    </tr>\n",
              "  </thead>\n",
              "  <tbody>\n",
              "    <tr>\n",
              "      <th>9</th>\n",
              "      <td>casado</td>\n",
              "      <td>2o Grau</td>\n",
              "      <td>1.0</td>\n",
              "      <td>7.59</td>\n",
              "      <td>34</td>\n",
              "      <td>10</td>\n",
              "      <td>capital</td>\n",
              "    </tr>\n",
              "    <tr>\n",
              "      <th>17</th>\n",
              "      <td>casado</td>\n",
              "      <td>2o Grau</td>\n",
              "      <td>1.0</td>\n",
              "      <td>9.77</td>\n",
              "      <td>31</td>\n",
              "      <td>7</td>\n",
              "      <td>capital</td>\n",
              "    </tr>\n",
              "    <tr>\n",
              "      <th>22</th>\n",
              "      <td>solteiro</td>\n",
              "      <td>2o Grau</td>\n",
              "      <td>NaN</td>\n",
              "      <td>11.59</td>\n",
              "      <td>34</td>\n",
              "      <td>2</td>\n",
              "      <td>capital</td>\n",
              "    </tr>\n",
              "    <tr>\n",
              "      <th>30</th>\n",
              "      <td>casado</td>\n",
              "      <td>2o Grau</td>\n",
              "      <td>2.0</td>\n",
              "      <td>15.99</td>\n",
              "      <td>35</td>\n",
              "      <td>10</td>\n",
              "      <td>capital</td>\n",
              "    </tr>\n",
              "  </tbody>\n",
              "</table>\n",
              "</div>\n",
              "      <button class=\"colab-df-convert\" onclick=\"convertToInteractive('df-b0cf55d5-dd11-4a6e-a9b1-bceb059b4b27')\"\n",
              "              title=\"Convert this dataframe to an interactive table.\"\n",
              "              style=\"display:none;\">\n",
              "        \n",
              "  <svg xmlns=\"http://www.w3.org/2000/svg\" height=\"24px\"viewBox=\"0 0 24 24\"\n",
              "       width=\"24px\">\n",
              "    <path d=\"M0 0h24v24H0V0z\" fill=\"none\"/>\n",
              "    <path d=\"M18.56 5.44l.94 2.06.94-2.06 2.06-.94-2.06-.94-.94-2.06-.94 2.06-2.06.94zm-11 1L8.5 8.5l.94-2.06 2.06-.94-2.06-.94L8.5 2.5l-.94 2.06-2.06.94zm10 10l.94 2.06.94-2.06 2.06-.94-2.06-.94-.94-2.06-.94 2.06-2.06.94z\"/><path d=\"M17.41 7.96l-1.37-1.37c-.4-.4-.92-.59-1.43-.59-.52 0-1.04.2-1.43.59L10.3 9.45l-7.72 7.72c-.78.78-.78 2.05 0 2.83L4 21.41c.39.39.9.59 1.41.59.51 0 1.02-.2 1.41-.59l7.78-7.78 2.81-2.81c.8-.78.8-2.07 0-2.86zM5.41 20L4 18.59l7.72-7.72 1.47 1.35L5.41 20z\"/>\n",
              "  </svg>\n",
              "      </button>\n",
              "      \n",
              "  <style>\n",
              "    .colab-df-container {\n",
              "      display:flex;\n",
              "      flex-wrap:wrap;\n",
              "      gap: 12px;\n",
              "    }\n",
              "\n",
              "    .colab-df-convert {\n",
              "      background-color: #E8F0FE;\n",
              "      border: none;\n",
              "      border-radius: 50%;\n",
              "      cursor: pointer;\n",
              "      display: none;\n",
              "      fill: #1967D2;\n",
              "      height: 32px;\n",
              "      padding: 0 0 0 0;\n",
              "      width: 32px;\n",
              "    }\n",
              "\n",
              "    .colab-df-convert:hover {\n",
              "      background-color: #E2EBFA;\n",
              "      box-shadow: 0px 1px 2px rgba(60, 64, 67, 0.3), 0px 1px 3px 1px rgba(60, 64, 67, 0.15);\n",
              "      fill: #174EA6;\n",
              "    }\n",
              "\n",
              "    [theme=dark] .colab-df-convert {\n",
              "      background-color: #3B4455;\n",
              "      fill: #D2E3FC;\n",
              "    }\n",
              "\n",
              "    [theme=dark] .colab-df-convert:hover {\n",
              "      background-color: #434B5C;\n",
              "      box-shadow: 0px 1px 3px 1px rgba(0, 0, 0, 0.15);\n",
              "      filter: drop-shadow(0px 1px 2px rgba(0, 0, 0, 0.3));\n",
              "      fill: #FFFFFF;\n",
              "    }\n",
              "  </style>\n",
              "\n",
              "      <script>\n",
              "        const buttonEl =\n",
              "          document.querySelector('#df-b0cf55d5-dd11-4a6e-a9b1-bceb059b4b27 button.colab-df-convert');\n",
              "        buttonEl.style.display =\n",
              "          google.colab.kernel.accessAllowed ? 'block' : 'none';\n",
              "\n",
              "        async function convertToInteractive(key) {\n",
              "          const element = document.querySelector('#df-b0cf55d5-dd11-4a6e-a9b1-bceb059b4b27');\n",
              "          const dataTable =\n",
              "            await google.colab.kernel.invokeFunction('convertToInteractive',\n",
              "                                                     [key], {});\n",
              "          if (!dataTable) return;\n",
              "\n",
              "          const docLinkHtml = 'Like what you see? Visit the ' +\n",
              "            '<a target=\"_blank\" href=https://colab.research.google.com/notebooks/data_table.ipynb>data table notebook</a>'\n",
              "            + ' to learn more about interactive tables.';\n",
              "          element.innerHTML = '';\n",
              "          dataTable['output_type'] = 'display_data';\n",
              "          await google.colab.output.renderOutput(dataTable, element);\n",
              "          const docLink = document.createElement('div');\n",
              "          docLink.innerHTML = docLinkHtml;\n",
              "          element.appendChild(docLink);\n",
              "        }\n",
              "      </script>\n",
              "    </div>\n",
              "  </div>\n",
              "  "
            ]
          },
          "metadata": {},
          "execution_count": 51
        }
      ]
    },
    {
      "cell_type": "markdown",
      "source": [
        "### <font color='gold'>**_j._**</font> **_Faça uma correlação entre todos os atributos. (Dica: mapeie os atributos qualitativos para atributos quantitativos. Ex: solteiro: 1, casado: 2, etc)_**"
      ],
      "metadata": {
        "id": "g1PhX_OMqBs-"
      }
    },
    {
      "cell_type": "markdown",
      "source": [
        "- Primeiramente, para atribuirmos números inteiros aos dados das colunas qualitativas, vamos checar os valores únicos dessas colunas, para podermos saber quantos números serão atribuídos para cada coluna.\n",
        "\n",
        "  - Para realizar essa checagem, novamente utilizaremos o método <font color='09D1FF'>**_unique()_**</font>."
      ],
      "metadata": {
        "id": "dBe0XmTlS1p0"
      }
    },
    {
      "cell_type": "code",
      "source": [
        "valores_est_civil = df['Est.civil'].unique()\n",
        "valores_inst = df['Inst'].unique()\n",
        "valores_regiao = df['Regiao'].unique()\n",
        "\n",
        "print(f'Valores da coluna {cor_amarelo}\"Est.civil\"{cor_fim}: {cor_verde}{valores_est_civil}{cor_fim}')\n",
        "print(f'{cor_null}Valores da coluna{cor_fim} {cor_amarelo}\"Inst\"{cor_fim}: {cor_verde}{valores_inst}{cor_fim}')\n",
        "print(f'{cor_null}Valores da coluna{cor_fim} {cor_amarelo}\"Regiao\"{cor_fim}: {cor_verde}{valores_regiao}{cor_fim}')"
      ],
      "metadata": {
        "colab": {
          "base_uri": "https://localhost:8080/"
        },
        "id": "4sF8Tv0BPKU0",
        "outputId": "cf34c66a-e203-4731-de67-99bbd0d94b3c"
      },
      "execution_count": null,
      "outputs": [
        {
          "output_type": "stream",
          "name": "stdout",
          "text": [
            "Valores da coluna \u001b[0;33m\"Est.civil\"\u001b[m: \u001b[1;32m['solteiro' 'casado']\u001b[m\n",
            "\u001b[0mValores da coluna\u001b[m \u001b[0;33m\"Inst\"\u001b[m: \u001b[1;32m['1o Grau' '2o Grau' 'Superior']\u001b[m\n",
            "\u001b[0mValores da coluna\u001b[m \u001b[0;33m\"Regiao\"\u001b[m: \u001b[1;32m['interior' 'capital' 'outro']\u001b[m\n"
          ]
        }
      ]
    },
    {
      "cell_type": "markdown",
      "source": [
        "- Com as informações dos valores de cada coluna que iremos alterar, agora criaremos uma função <font color='0984FF'>lambda</font> específica para cada coluna com as alterações necessárias."
      ],
      "metadata": {
        "id": "feevMX2bTQSl"
      }
    },
    {
      "cell_type": "code",
      "source": [
        "form_est_civil = lambda x: 1 if x == 'solteiro' else 2\n",
        "form_inst = lambda x: 1 if x == '1o Grau' else 2 if x == '2o Grau' else 3\n",
        "form_regiao = lambda x: 1 if x == 'interior' else 2 if x == 'capital' else 3"
      ],
      "metadata": {
        "id": "j8I5qRABqDXL"
      },
      "execution_count": null,
      "outputs": []
    },
    {
      "cell_type": "markdown",
      "source": [
        "Abaixo, uma tabela que contém o número que cada valor de cada tabela receberá pela função <font color='0984FF'>lambda</font> correspondente:\n",
        ">\n",
        "\n",
        "|<font size='4'><font color='gold'>Numero |<font size='4'><font color='gold'> Est.civil |<font size='4'><font color='gold'> Inst     | <font size='4'><font color='gold'>Regiao\n",
        "|-------|-----------|----------|---------\n",
        "|<font size='3'>1      |<font size='3'> solteiro  |<font size='3'>1o Grau  | <font size='3'>interior\n",
        "|<font size='3'>2      | <font size='3'>casado    | <font size='3'>2o Grau  | <font size='3'>capital\n",
        "|<font size='3'>3      | [null]    |<font size='3'> Superior | <font size='3'>outro"
      ],
      "metadata": {
        "id": "q5YhDf7nThp2"
      }
    },
    {
      "cell_type": "markdown",
      "source": [
        "- Agora, atribuímos as mudanças das funções <font color='0984FF'>lambda</font> nas colunas do DataFrame utilizando o método  <font color='09D1FF'>**_map()_**</font>."
      ],
      "metadata": {
        "id": "izCZz4D1V5ns"
      }
    },
    {
      "cell_type": "code",
      "source": [
        "df['Est.civil'] = df['Est.civil'].map(form_est_civil)\n",
        "df['Inst'] = df['Inst'].map(form_inst)\n",
        "df['Regiao'] = df['Regiao'].map(form_regiao)"
      ],
      "metadata": {
        "id": "gy4qbPShPZ8e"
      },
      "execution_count": null,
      "outputs": []
    },
    {
      "cell_type": "code",
      "source": [
        "df.head()"
      ],
      "metadata": {
        "colab": {
          "base_uri": "https://localhost:8080/",
          "height": 238
        },
        "id": "COanIS6BP2BF",
        "outputId": "22a52e24-83ac-48c8-9c6c-53817bce77f2"
      },
      "execution_count": null,
      "outputs": [
        {
          "output_type": "execute_result",
          "data": {
            "text/plain": [
              "             Est.civil  Inst  Filhos  Salario  Anos  Meses  Regiao\n",
              "Funcionario                                                       \n",
              "1                    1     1     NaN     4.00    26      3       1\n",
              "2                    2     1     1.0     4.56    32     10       2\n",
              "3                    2     1     2.0     5.25    36      5       2\n",
              "4                    1     2     NaN     5.73    20     10       3\n",
              "5                    1     1     NaN     6.26    40      7       3"
            ],
            "text/html": [
              "\n",
              "  <div id=\"df-945c75fd-7287-439e-8816-2ab1170c2d4c\">\n",
              "    <div class=\"colab-df-container\">\n",
              "      <div>\n",
              "<style scoped>\n",
              "    .dataframe tbody tr th:only-of-type {\n",
              "        vertical-align: middle;\n",
              "    }\n",
              "\n",
              "    .dataframe tbody tr th {\n",
              "        vertical-align: top;\n",
              "    }\n",
              "\n",
              "    .dataframe thead th {\n",
              "        text-align: right;\n",
              "    }\n",
              "</style>\n",
              "<table border=\"1\" class=\"dataframe\">\n",
              "  <thead>\n",
              "    <tr style=\"text-align: right;\">\n",
              "      <th></th>\n",
              "      <th>Est.civil</th>\n",
              "      <th>Inst</th>\n",
              "      <th>Filhos</th>\n",
              "      <th>Salario</th>\n",
              "      <th>Anos</th>\n",
              "      <th>Meses</th>\n",
              "      <th>Regiao</th>\n",
              "    </tr>\n",
              "    <tr>\n",
              "      <th>Funcionario</th>\n",
              "      <th></th>\n",
              "      <th></th>\n",
              "      <th></th>\n",
              "      <th></th>\n",
              "      <th></th>\n",
              "      <th></th>\n",
              "      <th></th>\n",
              "    </tr>\n",
              "  </thead>\n",
              "  <tbody>\n",
              "    <tr>\n",
              "      <th>1</th>\n",
              "      <td>1</td>\n",
              "      <td>1</td>\n",
              "      <td>NaN</td>\n",
              "      <td>4.00</td>\n",
              "      <td>26</td>\n",
              "      <td>3</td>\n",
              "      <td>1</td>\n",
              "    </tr>\n",
              "    <tr>\n",
              "      <th>2</th>\n",
              "      <td>2</td>\n",
              "      <td>1</td>\n",
              "      <td>1.0</td>\n",
              "      <td>4.56</td>\n",
              "      <td>32</td>\n",
              "      <td>10</td>\n",
              "      <td>2</td>\n",
              "    </tr>\n",
              "    <tr>\n",
              "      <th>3</th>\n",
              "      <td>2</td>\n",
              "      <td>1</td>\n",
              "      <td>2.0</td>\n",
              "      <td>5.25</td>\n",
              "      <td>36</td>\n",
              "      <td>5</td>\n",
              "      <td>2</td>\n",
              "    </tr>\n",
              "    <tr>\n",
              "      <th>4</th>\n",
              "      <td>1</td>\n",
              "      <td>2</td>\n",
              "      <td>NaN</td>\n",
              "      <td>5.73</td>\n",
              "      <td>20</td>\n",
              "      <td>10</td>\n",
              "      <td>3</td>\n",
              "    </tr>\n",
              "    <tr>\n",
              "      <th>5</th>\n",
              "      <td>1</td>\n",
              "      <td>1</td>\n",
              "      <td>NaN</td>\n",
              "      <td>6.26</td>\n",
              "      <td>40</td>\n",
              "      <td>7</td>\n",
              "      <td>3</td>\n",
              "    </tr>\n",
              "  </tbody>\n",
              "</table>\n",
              "</div>\n",
              "      <button class=\"colab-df-convert\" onclick=\"convertToInteractive('df-945c75fd-7287-439e-8816-2ab1170c2d4c')\"\n",
              "              title=\"Convert this dataframe to an interactive table.\"\n",
              "              style=\"display:none;\">\n",
              "        \n",
              "  <svg xmlns=\"http://www.w3.org/2000/svg\" height=\"24px\"viewBox=\"0 0 24 24\"\n",
              "       width=\"24px\">\n",
              "    <path d=\"M0 0h24v24H0V0z\" fill=\"none\"/>\n",
              "    <path d=\"M18.56 5.44l.94 2.06.94-2.06 2.06-.94-2.06-.94-.94-2.06-.94 2.06-2.06.94zm-11 1L8.5 8.5l.94-2.06 2.06-.94-2.06-.94L8.5 2.5l-.94 2.06-2.06.94zm10 10l.94 2.06.94-2.06 2.06-.94-2.06-.94-.94-2.06-.94 2.06-2.06.94z\"/><path d=\"M17.41 7.96l-1.37-1.37c-.4-.4-.92-.59-1.43-.59-.52 0-1.04.2-1.43.59L10.3 9.45l-7.72 7.72c-.78.78-.78 2.05 0 2.83L4 21.41c.39.39.9.59 1.41.59.51 0 1.02-.2 1.41-.59l7.78-7.78 2.81-2.81c.8-.78.8-2.07 0-2.86zM5.41 20L4 18.59l7.72-7.72 1.47 1.35L5.41 20z\"/>\n",
              "  </svg>\n",
              "      </button>\n",
              "      \n",
              "  <style>\n",
              "    .colab-df-container {\n",
              "      display:flex;\n",
              "      flex-wrap:wrap;\n",
              "      gap: 12px;\n",
              "    }\n",
              "\n",
              "    .colab-df-convert {\n",
              "      background-color: #E8F0FE;\n",
              "      border: none;\n",
              "      border-radius: 50%;\n",
              "      cursor: pointer;\n",
              "      display: none;\n",
              "      fill: #1967D2;\n",
              "      height: 32px;\n",
              "      padding: 0 0 0 0;\n",
              "      width: 32px;\n",
              "    }\n",
              "\n",
              "    .colab-df-convert:hover {\n",
              "      background-color: #E2EBFA;\n",
              "      box-shadow: 0px 1px 2px rgba(60, 64, 67, 0.3), 0px 1px 3px 1px rgba(60, 64, 67, 0.15);\n",
              "      fill: #174EA6;\n",
              "    }\n",
              "\n",
              "    [theme=dark] .colab-df-convert {\n",
              "      background-color: #3B4455;\n",
              "      fill: #D2E3FC;\n",
              "    }\n",
              "\n",
              "    [theme=dark] .colab-df-convert:hover {\n",
              "      background-color: #434B5C;\n",
              "      box-shadow: 0px 1px 3px 1px rgba(0, 0, 0, 0.15);\n",
              "      filter: drop-shadow(0px 1px 2px rgba(0, 0, 0, 0.3));\n",
              "      fill: #FFFFFF;\n",
              "    }\n",
              "  </style>\n",
              "\n",
              "      <script>\n",
              "        const buttonEl =\n",
              "          document.querySelector('#df-945c75fd-7287-439e-8816-2ab1170c2d4c button.colab-df-convert');\n",
              "        buttonEl.style.display =\n",
              "          google.colab.kernel.accessAllowed ? 'block' : 'none';\n",
              "\n",
              "        async function convertToInteractive(key) {\n",
              "          const element = document.querySelector('#df-945c75fd-7287-439e-8816-2ab1170c2d4c');\n",
              "          const dataTable =\n",
              "            await google.colab.kernel.invokeFunction('convertToInteractive',\n",
              "                                                     [key], {});\n",
              "          if (!dataTable) return;\n",
              "\n",
              "          const docLinkHtml = 'Like what you see? Visit the ' +\n",
              "            '<a target=\"_blank\" href=https://colab.research.google.com/notebooks/data_table.ipynb>data table notebook</a>'\n",
              "            + ' to learn more about interactive tables.';\n",
              "          element.innerHTML = '';\n",
              "          dataTable['output_type'] = 'display_data';\n",
              "          await google.colab.output.renderOutput(dataTable, element);\n",
              "          const docLink = document.createElement('div');\n",
              "          docLink.innerHTML = docLinkHtml;\n",
              "          element.appendChild(docLink);\n",
              "        }\n",
              "      </script>\n",
              "    </div>\n",
              "  </div>\n",
              "  "
            ]
          },
          "metadata": {},
          "execution_count": 55
        }
      ]
    },
    {
      "cell_type": "markdown",
      "source": [
        "- Com nosso DataFrame alterado, podemos estabelecer a relação entre as colunas utilizando o método <font color='09D1FF'>**_corr()_**</font>."
      ],
      "metadata": {
        "id": "FE3MoaP5yQD5"
      }
    },
    {
      "cell_type": "code",
      "source": [
        "correlacao = df.corr()\n",
        "\n",
        "correlacao"
      ],
      "metadata": {
        "colab": {
          "base_uri": "https://localhost:8080/",
          "height": 269
        },
        "id": "3SVq78Icycwq",
        "outputId": "62de4a7e-c654-463b-a0ff-7c3f10b05f22"
      },
      "execution_count": null,
      "outputs": [
        {
          "output_type": "execute_result",
          "data": {
            "text/plain": [
              "           Est.civil      Inst    Filhos   Salario      Anos     Meses  \\\n",
              "Est.civil   1.000000  0.108465       NaN  0.247488  0.095369  0.047886   \n",
              "Inst        0.108465  1.000000  0.084215  0.639350 -0.216011  0.095569   \n",
              "Filhos           NaN  0.084215  1.000000  0.358065  0.746539  0.015119   \n",
              "Salario     0.247488  0.639350  0.358065  1.000000  0.363362  0.000722   \n",
              "Anos        0.095369 -0.216011  0.746539  0.363362  1.000000 -0.137757   \n",
              "Meses       0.047886  0.095569  0.015119  0.000722 -0.137757  1.000000   \n",
              "Regiao     -0.238647 -0.088979 -0.002554 -0.102727  0.082419  0.106850   \n",
              "\n",
              "             Regiao  \n",
              "Est.civil -0.238647  \n",
              "Inst      -0.088979  \n",
              "Filhos    -0.002554  \n",
              "Salario   -0.102727  \n",
              "Anos       0.082419  \n",
              "Meses      0.106850  \n",
              "Regiao     1.000000  "
            ],
            "text/html": [
              "\n",
              "  <div id=\"df-d6d0beff-5cc4-46bf-9112-b0f7f9c2f650\">\n",
              "    <div class=\"colab-df-container\">\n",
              "      <div>\n",
              "<style scoped>\n",
              "    .dataframe tbody tr th:only-of-type {\n",
              "        vertical-align: middle;\n",
              "    }\n",
              "\n",
              "    .dataframe tbody tr th {\n",
              "        vertical-align: top;\n",
              "    }\n",
              "\n",
              "    .dataframe thead th {\n",
              "        text-align: right;\n",
              "    }\n",
              "</style>\n",
              "<table border=\"1\" class=\"dataframe\">\n",
              "  <thead>\n",
              "    <tr style=\"text-align: right;\">\n",
              "      <th></th>\n",
              "      <th>Est.civil</th>\n",
              "      <th>Inst</th>\n",
              "      <th>Filhos</th>\n",
              "      <th>Salario</th>\n",
              "      <th>Anos</th>\n",
              "      <th>Meses</th>\n",
              "      <th>Regiao</th>\n",
              "    </tr>\n",
              "  </thead>\n",
              "  <tbody>\n",
              "    <tr>\n",
              "      <th>Est.civil</th>\n",
              "      <td>1.000000</td>\n",
              "      <td>0.108465</td>\n",
              "      <td>NaN</td>\n",
              "      <td>0.247488</td>\n",
              "      <td>0.095369</td>\n",
              "      <td>0.047886</td>\n",
              "      <td>-0.238647</td>\n",
              "    </tr>\n",
              "    <tr>\n",
              "      <th>Inst</th>\n",
              "      <td>0.108465</td>\n",
              "      <td>1.000000</td>\n",
              "      <td>0.084215</td>\n",
              "      <td>0.639350</td>\n",
              "      <td>-0.216011</td>\n",
              "      <td>0.095569</td>\n",
              "      <td>-0.088979</td>\n",
              "    </tr>\n",
              "    <tr>\n",
              "      <th>Filhos</th>\n",
              "      <td>NaN</td>\n",
              "      <td>0.084215</td>\n",
              "      <td>1.000000</td>\n",
              "      <td>0.358065</td>\n",
              "      <td>0.746539</td>\n",
              "      <td>0.015119</td>\n",
              "      <td>-0.002554</td>\n",
              "    </tr>\n",
              "    <tr>\n",
              "      <th>Salario</th>\n",
              "      <td>0.247488</td>\n",
              "      <td>0.639350</td>\n",
              "      <td>0.358065</td>\n",
              "      <td>1.000000</td>\n",
              "      <td>0.363362</td>\n",
              "      <td>0.000722</td>\n",
              "      <td>-0.102727</td>\n",
              "    </tr>\n",
              "    <tr>\n",
              "      <th>Anos</th>\n",
              "      <td>0.095369</td>\n",
              "      <td>-0.216011</td>\n",
              "      <td>0.746539</td>\n",
              "      <td>0.363362</td>\n",
              "      <td>1.000000</td>\n",
              "      <td>-0.137757</td>\n",
              "      <td>0.082419</td>\n",
              "    </tr>\n",
              "    <tr>\n",
              "      <th>Meses</th>\n",
              "      <td>0.047886</td>\n",
              "      <td>0.095569</td>\n",
              "      <td>0.015119</td>\n",
              "      <td>0.000722</td>\n",
              "      <td>-0.137757</td>\n",
              "      <td>1.000000</td>\n",
              "      <td>0.106850</td>\n",
              "    </tr>\n",
              "    <tr>\n",
              "      <th>Regiao</th>\n",
              "      <td>-0.238647</td>\n",
              "      <td>-0.088979</td>\n",
              "      <td>-0.002554</td>\n",
              "      <td>-0.102727</td>\n",
              "      <td>0.082419</td>\n",
              "      <td>0.106850</td>\n",
              "      <td>1.000000</td>\n",
              "    </tr>\n",
              "  </tbody>\n",
              "</table>\n",
              "</div>\n",
              "      <button class=\"colab-df-convert\" onclick=\"convertToInteractive('df-d6d0beff-5cc4-46bf-9112-b0f7f9c2f650')\"\n",
              "              title=\"Convert this dataframe to an interactive table.\"\n",
              "              style=\"display:none;\">\n",
              "        \n",
              "  <svg xmlns=\"http://www.w3.org/2000/svg\" height=\"24px\"viewBox=\"0 0 24 24\"\n",
              "       width=\"24px\">\n",
              "    <path d=\"M0 0h24v24H0V0z\" fill=\"none\"/>\n",
              "    <path d=\"M18.56 5.44l.94 2.06.94-2.06 2.06-.94-2.06-.94-.94-2.06-.94 2.06-2.06.94zm-11 1L8.5 8.5l.94-2.06 2.06-.94-2.06-.94L8.5 2.5l-.94 2.06-2.06.94zm10 10l.94 2.06.94-2.06 2.06-.94-2.06-.94-.94-2.06-.94 2.06-2.06.94z\"/><path d=\"M17.41 7.96l-1.37-1.37c-.4-.4-.92-.59-1.43-.59-.52 0-1.04.2-1.43.59L10.3 9.45l-7.72 7.72c-.78.78-.78 2.05 0 2.83L4 21.41c.39.39.9.59 1.41.59.51 0 1.02-.2 1.41-.59l7.78-7.78 2.81-2.81c.8-.78.8-2.07 0-2.86zM5.41 20L4 18.59l7.72-7.72 1.47 1.35L5.41 20z\"/>\n",
              "  </svg>\n",
              "      </button>\n",
              "      \n",
              "  <style>\n",
              "    .colab-df-container {\n",
              "      display:flex;\n",
              "      flex-wrap:wrap;\n",
              "      gap: 12px;\n",
              "    }\n",
              "\n",
              "    .colab-df-convert {\n",
              "      background-color: #E8F0FE;\n",
              "      border: none;\n",
              "      border-radius: 50%;\n",
              "      cursor: pointer;\n",
              "      display: none;\n",
              "      fill: #1967D2;\n",
              "      height: 32px;\n",
              "      padding: 0 0 0 0;\n",
              "      width: 32px;\n",
              "    }\n",
              "\n",
              "    .colab-df-convert:hover {\n",
              "      background-color: #E2EBFA;\n",
              "      box-shadow: 0px 1px 2px rgba(60, 64, 67, 0.3), 0px 1px 3px 1px rgba(60, 64, 67, 0.15);\n",
              "      fill: #174EA6;\n",
              "    }\n",
              "\n",
              "    [theme=dark] .colab-df-convert {\n",
              "      background-color: #3B4455;\n",
              "      fill: #D2E3FC;\n",
              "    }\n",
              "\n",
              "    [theme=dark] .colab-df-convert:hover {\n",
              "      background-color: #434B5C;\n",
              "      box-shadow: 0px 1px 3px 1px rgba(0, 0, 0, 0.15);\n",
              "      filter: drop-shadow(0px 1px 2px rgba(0, 0, 0, 0.3));\n",
              "      fill: #FFFFFF;\n",
              "    }\n",
              "  </style>\n",
              "\n",
              "      <script>\n",
              "        const buttonEl =\n",
              "          document.querySelector('#df-d6d0beff-5cc4-46bf-9112-b0f7f9c2f650 button.colab-df-convert');\n",
              "        buttonEl.style.display =\n",
              "          google.colab.kernel.accessAllowed ? 'block' : 'none';\n",
              "\n",
              "        async function convertToInteractive(key) {\n",
              "          const element = document.querySelector('#df-d6d0beff-5cc4-46bf-9112-b0f7f9c2f650');\n",
              "          const dataTable =\n",
              "            await google.colab.kernel.invokeFunction('convertToInteractive',\n",
              "                                                     [key], {});\n",
              "          if (!dataTable) return;\n",
              "\n",
              "          const docLinkHtml = 'Like what you see? Visit the ' +\n",
              "            '<a target=\"_blank\" href=https://colab.research.google.com/notebooks/data_table.ipynb>data table notebook</a>'\n",
              "            + ' to learn more about interactive tables.';\n",
              "          element.innerHTML = '';\n",
              "          dataTable['output_type'] = 'display_data';\n",
              "          await google.colab.output.renderOutput(dataTable, element);\n",
              "          const docLink = document.createElement('div');\n",
              "          docLink.innerHTML = docLinkHtml;\n",
              "          element.appendChild(docLink);\n",
              "        }\n",
              "      </script>\n",
              "    </div>\n",
              "  </div>\n",
              "  "
            ]
          },
          "metadata": {},
          "execution_count": 56
        }
      ]
    },
    {
      "cell_type": "markdown",
      "source": [
        "- Para visualizarmos melhor essa correlação entre as tabelas, podemos utilizar um heatmap da biblioteca <font color='magenta'>**_Seaborn_**</font>."
      ],
      "metadata": {
        "id": "Nmnmc3egMC9t"
      }
    },
    {
      "cell_type": "code",
      "source": [
        "sns.heatmap(correlacao, cmap='RdBu', fmt='.3f', square=True, linecolor='white', annot=True);"
      ],
      "metadata": {
        "colab": {
          "base_uri": "https://localhost:8080/",
          "height": 298
        },
        "id": "Pgx_HV68MWJ-",
        "outputId": "20ca4bdd-7be5-4829-ecd4-b8cadbcc5c6d"
      },
      "execution_count": null,
      "outputs": [
        {
          "output_type": "display_data",
          "data": {
            "text/plain": [
              "<Figure size 432x288 with 2 Axes>"
            ],
            "image/png": "[encoded data removed]"
          },
          "metadata": {
            "needs_background": "light"
          }
        }
      ]
    },
    {
      "cell_type": "markdown",
      "source": [
        "### <font color='gold'>**_k._**</font> **_Forneça pelo menos mais 3 informações que você achar interessante_**"
      ],
      "metadata": {
        "id": "C6QMBkghIR_R"
      }
    },
    {
      "cell_type": "markdown",
      "source": [
        "Com nosso DataFrame atualizado com valores quantitativos, podemos visualizar as tabelas com um histograma."
      ],
      "metadata": {
        "id": "L10DpMScGWga"
      }
    },
    {
      "cell_type": "code",
      "source": [
        "df.hist(bins=15, figsize=(15,15));"
      ],
      "metadata": {
        "colab": {
          "base_uri": "https://localhost:8080/",
          "height": 879
        },
        "id": "QeD2MbuVGiHs",
        "outputId": "0b1460d6-5af6-4398-a2ea-cc70da894fbb"
      },
      "execution_count": null,
      "outputs": [
        {
          "output_type": "display_data",
          "data": {
            "text/plain": [
              "<Figure size 1080x1080 with 9 Axes>"
            ],
            "image/png": "[encoded data removed]"
          },
          "metadata": {
            "needs_background": "light"
          }
        }
      ]
    },
    {
      "cell_type": "markdown",
      "source": [
        "#### <font color='gold'>**_Número de funcionários divididos por seu número de instrução:_**"
      ],
      "metadata": {
        "id": "nKeinNDDfLv1"
      }
    },
    {
      "cell_type": "markdown",
      "source": [
        "- Para estabelecermos a relação entre os funcionários e seu grau de escolaridade, utilizaremos o método <font color='09D1FF'>**_value_counts()_**</font> na coluna **_Inst_** para contar quantos fucnionários pertencem aos 3 níves de instrução:"
      ],
      "metadata": {
        "id": "Kv2DT9o8G5Kd"
      }
    },
    {
      "cell_type": "code",
      "source": [
        "func_inst = df.Inst.value_counts().sort_values()\n",
        "func_inst"
      ],
      "metadata": {
        "colab": {
          "base_uri": "https://localhost:8080/"
        },
        "id": "7Z-a2QsIelE0",
        "outputId": "69c2f77c-4944-4be2-f35e-8d1acdbb48c6"
      },
      "execution_count": null,
      "outputs": [
        {
          "output_type": "execute_result",
          "data": {
            "text/plain": [
              "3     6\n",
              "1    12\n",
              "2    18\n",
              "Name: Inst, dtype: int64"
            ]
          },
          "metadata": {},
          "execution_count": 58
        }
      ]
    },
    {
      "cell_type": "markdown",
      "source": [
        "- Com essa análise, podemos observar a diferença no nível de ensino dos funionários da Milsa, onde:\n",
        "\n",
        "  - <font color='gold'>**_1o Grau:_**</font> **12** funcionários na empresa \n",
        "possuem até o primeiro grau de educação;\n",
        "\n",
        "  - <font color='gold'>**_2o Grau:_**</font> **18** funcionários na empresa possuem até o segundo grau, o maior número na empresa;\n",
        "\n",
        "  - <font color='gold'>**_Superior (3o Grau):_**</font> Apenas **6** funcionários na empresa possuem até o nível Superior de educação"
      ],
      "metadata": {
        "id": "nxJQJzXwpMys"
      }
    },
    {
      "cell_type": "markdown",
      "source": [
        "- Para melhorar a visualização dessa análise, podemos utilizar um pie chart da coluna Inst:"
      ],
      "metadata": {
        "id": "84ko_j-0ToKA"
      }
    },
    {
      "cell_type": "code",
      "source": [
        "fatias = [func_inst]\n",
        "instrucao = ['Ensino Superior', '1o Grau', '2o Grau']\n",
        "cores = ['c','y','g']\n",
        "plt.pie(fatias, labels=instrucao, colors=cores, startangle=90, shadow= True, autopct='%1.1f%%')\n",
        "plt.title('Grau de escolaridade dos Funcionários')\n",
        "plt.show()"
      ],
      "metadata": {
        "colab": {
          "base_uri": "https://localhost:8080/",
          "height": 319
        },
        "id": "1CHttJZwTnoj",
        "outputId": "c9883e7f-3190-44d3-fee4-425d8e2dc51a"
      },
      "execution_count": null,
      "outputs": [
        {
          "output_type": "stream",
          "name": "stderr",
          "text": [
            "/usr/local/lib/python3.7/dist-packages/ipykernel_launcher.py:4: MatplotlibDeprecationWarning: Non-1D inputs to pie() are currently squeeze()d, but this behavior is deprecated since 3.1 and will be removed in 3.3; pass a 1D array instead.\n",
            "  after removing the cwd from sys.path.\n"
          ]
        },
        {
          "output_type": "display_data",
          "data": {
            "text/plain": [
              "<Figure size 432x288 with 1 Axes>"
            ],
            "image/png": "[encoded data removed]"
          },
          "metadata": {}
        }
      ]
    },
    {
      "cell_type": "markdown",
      "source": [
        "  - <font color='gold'>**_1o Grau:_**</font> Aproximadamente **33.3%** dos funcionários possuem até o primeiro grau de ensino;\n",
        "\n",
        "  - <font color='gold'>**_2o Grau:_**</font> **50%** dos funcionários possuem até o segundo grau de educação;\n",
        "\n",
        "  - <font color='gold'>**_1o Grau:_**</font> Aproximandamente **16.6%** dos funcionários possuem até o ensino Superior de educação."
      ],
      "metadata": {
        "id": "mnNkj5TrqPuO"
      }
    },
    {
      "cell_type": "markdown",
      "source": [
        "#### <font color='gold'>**_Média de salario dos funcionários divididos pelo nível de instrução_**"
      ],
      "metadata": {
        "id": "DLcr4fqZg7JL"
      }
    },
    {
      "cell_type": "markdown",
      "source": [
        "- Com os dados coletados sobre o nível de formação dos profissionais da empresa, vamos checar o impacto disso com a média salarial"
      ],
      "metadata": {
        "id": "ga7_SZ36HhbM"
      }
    },
    {
      "cell_type": "code",
      "source": [
        "inst_sal = df.groupby(['Inst'])['Salario'].agg('mean').reset_index()\n",
        "inst_sal"
      ],
      "metadata": {
        "colab": {
          "base_uri": "https://localhost:8080/",
          "height": 143
        },
        "id": "jqvbBEttf166",
        "outputId": "f6aa306a-8801-4643-dbfd-bc473eeb38c3"
      },
      "execution_count": null,
      "outputs": [
        {
          "output_type": "execute_result",
          "data": {
            "text/plain": [
              "   Inst    Salario\n",
              "0     1   7.836667\n",
              "1     2  11.528333\n",
              "2     3  16.475000"
            ],
            "text/html": [
              "\n",
              "  <div id=\"df-e350a5d8-437d-448a-b177-21db852f8713\">\n",
              "    <div class=\"colab-df-container\">\n",
              "      <div>\n",
              "<style scoped>\n",
              "    .dataframe tbody tr th:only-of-type {\n",
              "        vertical-align: middle;\n",
              "    }\n",
              "\n",
              "    .dataframe tbody tr th {\n",
              "        vertical-align: top;\n",
              "    }\n",
              "\n",
              "    .dataframe thead th {\n",
              "        text-align: right;\n",
              "    }\n",
              "</style>\n",
              "<table border=\"1\" class=\"dataframe\">\n",
              "  <thead>\n",
              "    <tr style=\"text-align: right;\">\n",
              "      <th></th>\n",
              "      <th>Inst</th>\n",
              "      <th>Salario</th>\n",
              "    </tr>\n",
              "  </thead>\n",
              "  <tbody>\n",
              "    <tr>\n",
              "      <th>0</th>\n",
              "      <td>1</td>\n",
              "      <td>7.836667</td>\n",
              "    </tr>\n",
              "    <tr>\n",
              "      <th>1</th>\n",
              "      <td>2</td>\n",
              "      <td>11.528333</td>\n",
              "    </tr>\n",
              "    <tr>\n",
              "      <th>2</th>\n",
              "      <td>3</td>\n",
              "      <td>16.475000</td>\n",
              "    </tr>\n",
              "  </tbody>\n",
              "</table>\n",
              "</div>\n",
              "      <button class=\"colab-df-convert\" onclick=\"convertToInteractive('df-e350a5d8-437d-448a-b177-21db852f8713')\"\n",
              "              title=\"Convert this dataframe to an interactive table.\"\n",
              "              style=\"display:none;\">\n",
              "        \n",
              "  <svg xmlns=\"http://www.w3.org/2000/svg\" height=\"24px\"viewBox=\"0 0 24 24\"\n",
              "       width=\"24px\">\n",
              "    <path d=\"M0 0h24v24H0V0z\" fill=\"none\"/>\n",
              "    <path d=\"M18.56 5.44l.94 2.06.94-2.06 2.06-.94-2.06-.94-.94-2.06-.94 2.06-2.06.94zm-11 1L8.5 8.5l.94-2.06 2.06-.94-2.06-.94L8.5 2.5l-.94 2.06-2.06.94zm10 10l.94 2.06.94-2.06 2.06-.94-2.06-.94-.94-2.06-.94 2.06-2.06.94z\"/><path d=\"M17.41 7.96l-1.37-1.37c-.4-.4-.92-.59-1.43-.59-.52 0-1.04.2-1.43.59L10.3 9.45l-7.72 7.72c-.78.78-.78 2.05 0 2.83L4 21.41c.39.39.9.59 1.41.59.51 0 1.02-.2 1.41-.59l7.78-7.78 2.81-2.81c.8-.78.8-2.07 0-2.86zM5.41 20L4 18.59l7.72-7.72 1.47 1.35L5.41 20z\"/>\n",
              "  </svg>\n",
              "      </button>\n",
              "      \n",
              "  <style>\n",
              "    .colab-df-container {\n",
              "      display:flex;\n",
              "      flex-wrap:wrap;\n",
              "      gap: 12px;\n",
              "    }\n",
              "\n",
              "    .colab-df-convert {\n",
              "      background-color: #E8F0FE;\n",
              "      border: none;\n",
              "      border-radius: 50%;\n",
              "      cursor: pointer;\n",
              "      display: none;\n",
              "      fill: #1967D2;\n",
              "      height: 32px;\n",
              "      padding: 0 0 0 0;\n",
              "      width: 32px;\n",
              "    }\n",
              "\n",
              "    .colab-df-convert:hover {\n",
              "      background-color: #E2EBFA;\n",
              "      box-shadow: 0px 1px 2px rgba(60, 64, 67, 0.3), 0px 1px 3px 1px rgba(60, 64, 67, 0.15);\n",
              "      fill: #174EA6;\n",
              "    }\n",
              "\n",
              "    [theme=dark] .colab-df-convert {\n",
              "      background-color: #3B4455;\n",
              "      fill: #D2E3FC;\n",
              "    }\n",
              "\n",
              "    [theme=dark] .colab-df-convert:hover {\n",
              "      background-color: #434B5C;\n",
              "      box-shadow: 0px 1px 3px 1px rgba(0, 0, 0, 0.15);\n",
              "      filter: drop-shadow(0px 1px 2px rgba(0, 0, 0, 0.3));\n",
              "      fill: #FFFFFF;\n",
              "    }\n",
              "  </style>\n",
              "\n",
              "      <script>\n",
              "        const buttonEl =\n",
              "          document.querySelector('#df-e350a5d8-437d-448a-b177-21db852f8713 button.colab-df-convert');\n",
              "        buttonEl.style.display =\n",
              "          google.colab.kernel.accessAllowed ? 'block' : 'none';\n",
              "\n",
              "        async function convertToInteractive(key) {\n",
              "          const element = document.querySelector('#df-e350a5d8-437d-448a-b177-21db852f8713');\n",
              "          const dataTable =\n",
              "            await google.colab.kernel.invokeFunction('convertToInteractive',\n",
              "                                                     [key], {});\n",
              "          if (!dataTable) return;\n",
              "\n",
              "          const docLinkHtml = 'Like what you see? Visit the ' +\n",
              "            '<a target=\"_blank\" href=https://colab.research.google.com/notebooks/data_table.ipynb>data table notebook</a>'\n",
              "            + ' to learn more about interactive tables.';\n",
              "          element.innerHTML = '';\n",
              "          dataTable['output_type'] = 'display_data';\n",
              "          await google.colab.output.renderOutput(dataTable, element);\n",
              "          const docLink = document.createElement('div');\n",
              "          docLink.innerHTML = docLinkHtml;\n",
              "          element.appendChild(docLink);\n",
              "        }\n",
              "      </script>\n",
              "    </div>\n",
              "  </div>\n",
              "  "
            ]
          },
          "metadata": {},
          "execution_count": 60
        }
      ]
    },
    {
      "cell_type": "markdown",
      "source": [
        "- Podemos analisar que o salário aumenta em média <font color='green'>**_1,44x_**</font> conforme o nível de instrução do funcionário é maior, confirmando o impacto que a formação dos funcionários tem em relação a seu salário.\n",
        "\n",
        "- O gráfico abaixo representa essa relação de crescimento entre salário e nível de instrução."
      ],
      "metadata": {
        "id": "8V6yYnPTIlxM"
      }
    },
    {
      "cell_type": "code",
      "source": [
        "plt.scatter(inst_sal['Inst'],inst_sal['Salario'],label='Média Instrução - Salário',color='b')\n",
        "plt.title('Relação Instrução X Salário')\n",
        "plt.xlabel('Instrução')\n",
        "plt.ylabel('Salário')\n",
        "plt.legend()\n",
        "plt.show()"
      ],
      "metadata": {
        "colab": {
          "base_uri": "https://localhost:8080/",
          "height": 295
        },
        "id": "yAv10PFqIkoG",
        "outputId": "4fa66e4a-6860-4532-8604-b12e517f3329"
      },
      "execution_count": null,
      "outputs": [
        {
          "output_type": "display_data",
          "data": {
            "text/plain": [
              "<Figure size 432x288 with 1 Axes>"
            ],
            "image/png": "[encoded data removed]"
          },
          "metadata": {
            "needs_background": "light"
          }
        }
      ]
    },
    {
      "cell_type": "markdown",
      "source": [
        "#### <font color='gold'>**_Relação da idade dos funcionários com seu salário_**"
      ],
      "metadata": {
        "id": "pIScV8WqiIbK"
      }
    },
    {
      "cell_type": "markdown",
      "source": [
        "- Um fator interessante de se analisar é a relação entre a idade do funcionário e quanto o mesmo ganha de salário.\n",
        "\n",
        "  - Para isso utilizamos o método <font color='09D1FF'>**_.groupby_**</font>\n",
        "  para selecionarmos e organizarmos nosso DataFrame baseado nas colunas de **_Salário_** e **_Anos_**."
      ],
      "metadata": {
        "id": "hmHmyFw-KQ6r"
      }
    },
    {
      "cell_type": "code",
      "source": [
        "sal_inst_df = df.groupby(['Salario','Anos']).count().reset_index()\n",
        "\n",
        "data = sal_inst_df.loc[:, ['Salario', 'Anos']]\n",
        "data.head()"
      ],
      "metadata": {
        "colab": {
          "base_uri": "https://localhost:8080/",
          "height": 206
        },
        "id": "9dpHTHGIjNgn",
        "outputId": "3bd664c7-4772-4da2-906f-6dd71cb80b7b"
      },
      "execution_count": null,
      "outputs": [
        {
          "output_type": "execute_result",
          "data": {
            "text/plain": [
              "   Salario  Anos\n",
              "0     4.00    26\n",
              "1     4.56    32\n",
              "2     5.25    36\n",
              "3     5.73    20\n",
              "4     6.26    40"
            ],
            "text/html": [
              "\n",
              "  <div id=\"df-77284c37-037b-462a-a5ad-0915f39abade\">\n",
              "    <div class=\"colab-df-container\">\n",
              "      <div>\n",
              "<style scoped>\n",
              "    .dataframe tbody tr th:only-of-type {\n",
              "        vertical-align: middle;\n",
              "    }\n",
              "\n",
              "    .dataframe tbody tr th {\n",
              "        vertical-align: top;\n",
              "    }\n",
              "\n",
              "    .dataframe thead th {\n",
              "        text-align: right;\n",
              "    }\n",
              "</style>\n",
              "<table border=\"1\" class=\"dataframe\">\n",
              "  <thead>\n",
              "    <tr style=\"text-align: right;\">\n",
              "      <th></th>\n",
              "      <th>Salario</th>\n",
              "      <th>Anos</th>\n",
              "    </tr>\n",
              "  </thead>\n",
              "  <tbody>\n",
              "    <tr>\n",
              "      <th>0</th>\n",
              "      <td>4.00</td>\n",
              "      <td>26</td>\n",
              "    </tr>\n",
              "    <tr>\n",
              "      <th>1</th>\n",
              "      <td>4.56</td>\n",
              "      <td>32</td>\n",
              "    </tr>\n",
              "    <tr>\n",
              "      <th>2</th>\n",
              "      <td>5.25</td>\n",
              "      <td>36</td>\n",
              "    </tr>\n",
              "    <tr>\n",
              "      <th>3</th>\n",
              "      <td>5.73</td>\n",
              "      <td>20</td>\n",
              "    </tr>\n",
              "    <tr>\n",
              "      <th>4</th>\n",
              "      <td>6.26</td>\n",
              "      <td>40</td>\n",
              "    </tr>\n",
              "  </tbody>\n",
              "</table>\n",
              "</div>\n",
              "      <button class=\"colab-df-convert\" onclick=\"convertToInteractive('df-77284c37-037b-462a-a5ad-0915f39abade')\"\n",
              "              title=\"Convert this dataframe to an interactive table.\"\n",
              "              style=\"display:none;\">\n",
              "        \n",
              "  <svg xmlns=\"http://www.w3.org/2000/svg\" height=\"24px\"viewBox=\"0 0 24 24\"\n",
              "       width=\"24px\">\n",
              "    <path d=\"M0 0h24v24H0V0z\" fill=\"none\"/>\n",
              "    <path d=\"M18.56 5.44l.94 2.06.94-2.06 2.06-.94-2.06-.94-.94-2.06-.94 2.06-2.06.94zm-11 1L8.5 8.5l.94-2.06 2.06-.94-2.06-.94L8.5 2.5l-.94 2.06-2.06.94zm10 10l.94 2.06.94-2.06 2.06-.94-2.06-.94-.94-2.06-.94 2.06-2.06.94z\"/><path d=\"M17.41 7.96l-1.37-1.37c-.4-.4-.92-.59-1.43-.59-.52 0-1.04.2-1.43.59L10.3 9.45l-7.72 7.72c-.78.78-.78 2.05 0 2.83L4 21.41c.39.39.9.59 1.41.59.51 0 1.02-.2 1.41-.59l7.78-7.78 2.81-2.81c.8-.78.8-2.07 0-2.86zM5.41 20L4 18.59l7.72-7.72 1.47 1.35L5.41 20z\"/>\n",
              "  </svg>\n",
              "      </button>\n",
              "      \n",
              "  <style>\n",
              "    .colab-df-container {\n",
              "      display:flex;\n",
              "      flex-wrap:wrap;\n",
              "      gap: 12px;\n",
              "    }\n",
              "\n",
              "    .colab-df-convert {\n",
              "      background-color: #E8F0FE;\n",
              "      border: none;\n",
              "      border-radius: 50%;\n",
              "      cursor: pointer;\n",
              "      display: none;\n",
              "      fill: #1967D2;\n",
              "      height: 32px;\n",
              "      padding: 0 0 0 0;\n",
              "      width: 32px;\n",
              "    }\n",
              "\n",
              "    .colab-df-convert:hover {\n",
              "      background-color: #E2EBFA;\n",
              "      box-shadow: 0px 1px 2px rgba(60, 64, 67, 0.3), 0px 1px 3px 1px rgba(60, 64, 67, 0.15);\n",
              "      fill: #174EA6;\n",
              "    }\n",
              "\n",
              "    [theme=dark] .colab-df-convert {\n",
              "      background-color: #3B4455;\n",
              "      fill: #D2E3FC;\n",
              "    }\n",
              "\n",
              "    [theme=dark] .colab-df-convert:hover {\n",
              "      background-color: #434B5C;\n",
              "      box-shadow: 0px 1px 3px 1px rgba(0, 0, 0, 0.15);\n",
              "      filter: drop-shadow(0px 1px 2px rgba(0, 0, 0, 0.3));\n",
              "      fill: #FFFFFF;\n",
              "    }\n",
              "  </style>\n",
              "\n",
              "      <script>\n",
              "        const buttonEl =\n",
              "          document.querySelector('#df-77284c37-037b-462a-a5ad-0915f39abade button.colab-df-convert');\n",
              "        buttonEl.style.display =\n",
              "          google.colab.kernel.accessAllowed ? 'block' : 'none';\n",
              "\n",
              "        async function convertToInteractive(key) {\n",
              "          const element = document.querySelector('#df-77284c37-037b-462a-a5ad-0915f39abade');\n",
              "          const dataTable =\n",
              "            await google.colab.kernel.invokeFunction('convertToInteractive',\n",
              "                                                     [key], {});\n",
              "          if (!dataTable) return;\n",
              "\n",
              "          const docLinkHtml = 'Like what you see? Visit the ' +\n",
              "            '<a target=\"_blank\" href=https://colab.research.google.com/notebooks/data_table.ipynb>data table notebook</a>'\n",
              "            + ' to learn more about interactive tables.';\n",
              "          element.innerHTML = '';\n",
              "          dataTable['output_type'] = 'display_data';\n",
              "          await google.colab.output.renderOutput(dataTable, element);\n",
              "          const docLink = document.createElement('div');\n",
              "          docLink.innerHTML = docLinkHtml;\n",
              "          element.appendChild(docLink);\n",
              "        }\n",
              "      </script>\n",
              "    </div>\n",
              "  </div>\n",
              "  "
            ]
          },
          "metadata": {},
          "execution_count": 62
        }
      ]
    },
    {
      "cell_type": "code",
      "source": [
        "data.tail()"
      ],
      "metadata": {
        "colab": {
          "base_uri": "https://localhost:8080/",
          "height": 206
        },
        "id": "X3tCB8sVOiMg",
        "outputId": "c73ec7d4-bd80-49bf-ecac-5bc3ccf3f620"
      },
      "execution_count": null,
      "outputs": [
        {
          "output_type": "execute_result",
          "data": {
            "text/plain": [
              "    Salario  Anos\n",
              "31    16.61    36\n",
              "32    17.26    43\n",
              "33    18.75    33\n",
              "34    19.40    48\n",
              "35    23.30    42"
            ],
            "text/html": [
              "\n",
              "  <div id=\"df-92abfec7-fa56-4afe-9c52-4dfc78565951\">\n",
              "    <div class=\"colab-df-container\">\n",
              "      <div>\n",
              "<style scoped>\n",
              "    .dataframe tbody tr th:only-of-type {\n",
              "        vertical-align: middle;\n",
              "    }\n",
              "\n",
              "    .dataframe tbody tr th {\n",
              "        vertical-align: top;\n",
              "    }\n",
              "\n",
              "    .dataframe thead th {\n",
              "        text-align: right;\n",
              "    }\n",
              "</style>\n",
              "<table border=\"1\" class=\"dataframe\">\n",
              "  <thead>\n",
              "    <tr style=\"text-align: right;\">\n",
              "      <th></th>\n",
              "      <th>Salario</th>\n",
              "      <th>Anos</th>\n",
              "    </tr>\n",
              "  </thead>\n",
              "  <tbody>\n",
              "    <tr>\n",
              "      <th>31</th>\n",
              "      <td>16.61</td>\n",
              "      <td>36</td>\n",
              "    </tr>\n",
              "    <tr>\n",
              "      <th>32</th>\n",
              "      <td>17.26</td>\n",
              "      <td>43</td>\n",
              "    </tr>\n",
              "    <tr>\n",
              "      <th>33</th>\n",
              "      <td>18.75</td>\n",
              "      <td>33</td>\n",
              "    </tr>\n",
              "    <tr>\n",
              "      <th>34</th>\n",
              "      <td>19.40</td>\n",
              "      <td>48</td>\n",
              "    </tr>\n",
              "    <tr>\n",
              "      <th>35</th>\n",
              "      <td>23.30</td>\n",
              "      <td>42</td>\n",
              "    </tr>\n",
              "  </tbody>\n",
              "</table>\n",
              "</div>\n",
              "      <button class=\"colab-df-convert\" onclick=\"convertToInteractive('df-92abfec7-fa56-4afe-9c52-4dfc78565951')\"\n",
              "              title=\"Convert this dataframe to an interactive table.\"\n",
              "              style=\"display:none;\">\n",
              "        \n",
              "  <svg xmlns=\"http://www.w3.org/2000/svg\" height=\"24px\"viewBox=\"0 0 24 24\"\n",
              "       width=\"24px\">\n",
              "    <path d=\"M0 0h24v24H0V0z\" fill=\"none\"/>\n",
              "    <path d=\"M18.56 5.44l.94 2.06.94-2.06 2.06-.94-2.06-.94-.94-2.06-.94 2.06-2.06.94zm-11 1L8.5 8.5l.94-2.06 2.06-.94-2.06-.94L8.5 2.5l-.94 2.06-2.06.94zm10 10l.94 2.06.94-2.06 2.06-.94-2.06-.94-.94-2.06-.94 2.06-2.06.94z\"/><path d=\"M17.41 7.96l-1.37-1.37c-.4-.4-.92-.59-1.43-.59-.52 0-1.04.2-1.43.59L10.3 9.45l-7.72 7.72c-.78.78-.78 2.05 0 2.83L4 21.41c.39.39.9.59 1.41.59.51 0 1.02-.2 1.41-.59l7.78-7.78 2.81-2.81c.8-.78.8-2.07 0-2.86zM5.41 20L4 18.59l7.72-7.72 1.47 1.35L5.41 20z\"/>\n",
              "  </svg>\n",
              "      </button>\n",
              "      \n",
              "  <style>\n",
              "    .colab-df-container {\n",
              "      display:flex;\n",
              "      flex-wrap:wrap;\n",
              "      gap: 12px;\n",
              "    }\n",
              "\n",
              "    .colab-df-convert {\n",
              "      background-color: #E8F0FE;\n",
              "      border: none;\n",
              "      border-radius: 50%;\n",
              "      cursor: pointer;\n",
              "      display: none;\n",
              "      fill: #1967D2;\n",
              "      height: 32px;\n",
              "      padding: 0 0 0 0;\n",
              "      width: 32px;\n",
              "    }\n",
              "\n",
              "    .colab-df-convert:hover {\n",
              "      background-color: #E2EBFA;\n",
              "      box-shadow: 0px 1px 2px rgba(60, 64, 67, 0.3), 0px 1px 3px 1px rgba(60, 64, 67, 0.15);\n",
              "      fill: #174EA6;\n",
              "    }\n",
              "\n",
              "    [theme=dark] .colab-df-convert {\n",
              "      background-color: #3B4455;\n",
              "      fill: #D2E3FC;\n",
              "    }\n",
              "\n",
              "    [theme=dark] .colab-df-convert:hover {\n",
              "      background-color: #434B5C;\n",
              "      box-shadow: 0px 1px 3px 1px rgba(0, 0, 0, 0.15);\n",
              "      filter: drop-shadow(0px 1px 2px rgba(0, 0, 0, 0.3));\n",
              "      fill: #FFFFFF;\n",
              "    }\n",
              "  </style>\n",
              "\n",
              "      <script>\n",
              "        const buttonEl =\n",
              "          document.querySelector('#df-92abfec7-fa56-4afe-9c52-4dfc78565951 button.colab-df-convert');\n",
              "        buttonEl.style.display =\n",
              "          google.colab.kernel.accessAllowed ? 'block' : 'none';\n",
              "\n",
              "        async function convertToInteractive(key) {\n",
              "          const element = document.querySelector('#df-92abfec7-fa56-4afe-9c52-4dfc78565951');\n",
              "          const dataTable =\n",
              "            await google.colab.kernel.invokeFunction('convertToInteractive',\n",
              "                                                     [key], {});\n",
              "          if (!dataTable) return;\n",
              "\n",
              "          const docLinkHtml = 'Like what you see? Visit the ' +\n",
              "            '<a target=\"_blank\" href=https://colab.research.google.com/notebooks/data_table.ipynb>data table notebook</a>'\n",
              "            + ' to learn more about interactive tables.';\n",
              "          element.innerHTML = '';\n",
              "          dataTable['output_type'] = 'display_data';\n",
              "          await google.colab.output.renderOutput(dataTable, element);\n",
              "          const docLink = document.createElement('div');\n",
              "          docLink.innerHTML = docLinkHtml;\n",
              "          element.appendChild(docLink);\n",
              "        }\n",
              "      </script>\n",
              "    </div>\n",
              "  </div>\n",
              "  "
            ]
          },
          "metadata": {},
          "execution_count": 63
        }
      ]
    },
    {
      "cell_type": "markdown",
      "source": [
        "- Agora, para observarmos se existe uma tendência de crescimento entre essas duas colunas, utilizaremos outro gráfico scatter."
      ],
      "metadata": {
        "id": "oc7LX66pLbWs"
      }
    },
    {
      "cell_type": "code",
      "source": [
        "salario = [data['Salario']]\n",
        "idade = [data['Anos']]"
      ],
      "metadata": {
        "id": "mX4NpQAsufvK"
      },
      "execution_count": null,
      "outputs": []
    },
    {
      "cell_type": "code",
      "source": [
        "plt.scatter(salario,idade,label='Registro',color='b')\n",
        "plt.title('Relação Salário X Idade')\n",
        "plt.xlabel('Salario')\n",
        "plt.ylabel('Idade')\n",
        "plt.legend()\n",
        "plt.show()"
      ],
      "metadata": {
        "colab": {
          "base_uri": "https://localhost:8080/",
          "height": 295
        },
        "id": "kfcu653kus0Y",
        "outputId": "a401a8f0-9775-4cc9-e08f-f6e787e684cc"
      },
      "execution_count": null,
      "outputs": [
        {
          "output_type": "display_data",
          "data": {
            "text/plain": [
              "<Figure size 432x288 with 1 Axes>"
            ],
            "image/png": "[encoded data removed]"
          },
          "metadata": {
            "needs_background": "light"
          }
        }
      ]
    },
    {
      "cell_type": "markdown",
      "source": [
        "Com o gráfico, fica explícito que temos uma <font color='green'>**_tendência positiva_**</font>, onde quanto maior é a idade do funcionário, mais ele tende a ganhar de salário."
      ],
      "metadata": {
        "id": "33-u4YXELosv"
      }
    }
  ]
}